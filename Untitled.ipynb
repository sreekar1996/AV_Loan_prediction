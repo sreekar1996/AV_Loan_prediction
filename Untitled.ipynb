{
 "cells": [
  {
   "cell_type": "code",
   "execution_count": 1,
   "metadata": {},
   "outputs": [],
   "source": [
    "import pandas as pd\n",
    "import numpy as np\n",
    "from scipy.stats import zscore\n",
    "#from sklearn.preprocessing import Imputer\n",
    "from sklearn.metrics import accuracy_score\n",
    "import seaborn as sns\n",
    "#from imblearn.over_sampling import SMOTE\n",
    "from sklearn.tree import DecisionTreeClassifier\n",
    "from sklearn.linear_model import LogisticRegression\n",
    "from sklearn.neighbors import KNeighborsClassifier\n",
    "from scipy.stats import zscore\n",
    "#from sklearn.preprocessing import Imputer\n",
    "from sklearn.metrics import accuracy_score\n",
    "from sklearn import metrics\n",
    "from sklearn.preprocessing import MaxAbsScaler\n",
    "import warnings\n",
    "warnings.simplefilter(action='ignore', category=FutureWarning)\n",
    "warnings.simplefilter(action='ignore', category=UserWarning)\n",
    "from scipy.stats import rankdata\n",
    "#import lightgbm as lgb\n",
    "from sklearn import metrics\n",
    "import gc\n",
    "import matplotlib.pyplot as plt\n",
    "import warnings\n",
    "import itertools\n",
    "from sklearn import metrics\n",
    "from scipy.stats import norm, rankdata\n",
    "#from sklearn.feature_selection import RFE\n",
    "from sklearn.linear_model import LogisticRegression\n",
    "from sklearn.metrics import roc_auc_score, roc_curve\n",
    "from sklearn.metrics import f1_score\n",
    "from sklearn.metrics import confusion_matrix\n",
    "from sklearn.metrics import classification_report\n",
    "from scipy.stats import rankdata\n",
    "# below is to have multiple outputs from same Jupyter cells\n",
    "from IPython.core.interactiveshell import InteractiveShell\n",
    "InteractiveShell.ast_node_interactivity = \"all\"\n",
    "warnings.filterwarnings('ignore')\n",
    "#from feature_selector import FeatureSelector\n",
    "from sklearn.linear_model import SGDRegressor,LinearRegression,Ridge,Lasso,ElasticNet\n",
    "from sklearn.ensemble import GradientBoostingRegressor,RandomForestRegressor,AdaBoostRegressor\n",
    "from sklearn.tree import DecisionTreeRegressor\n",
    "from xgboost import XGBRegressor\n",
    "from sklearn.compose import TransformedTargetRegressor\n",
    "from sklearn.model_selection import GridSearchCV, RandomizedSearchCV"
   ]
  },
  {
   "cell_type": "code",
   "execution_count": 2,
   "metadata": {},
   "outputs": [
    {
     "name": "stdout",
     "output_type": "stream",
     "text": [
      "(614, 13) (367, 12)\n"
     ]
    }
   ],
   "source": [
    "train=pd.read_csv(\"train_ctrUa4K.csv\")\n",
    "test=pd.read_csv(\"test_lAUu6dG.csv\")\n",
    "label_col='Loan_Status'\n",
    "ntest=test.shape[1]\n",
    "print(train.shape,test.shape)\n",
    "ntrain=train.shape[0]"
   ]
  },
  {
   "cell_type": "code",
   "execution_count": null,
   "metadata": {},
   "outputs": [],
   "source": []
  },
  {
   "cell_type": "code",
   "execution_count": 3,
   "metadata": {},
   "outputs": [
    {
     "data": {
      "text/plain": [
       "Y    422\n",
       "N    192\n",
       "Name: Loan_Status, dtype: int64"
      ]
     },
     "execution_count": 3,
     "metadata": {},
     "output_type": "execute_result"
    }
   ],
   "source": [
    "train['Loan_Status'].value_counts()"
   ]
  },
  {
   "cell_type": "code",
   "execution_count": 4,
   "metadata": {},
   "outputs": [],
   "source": [
    "## adding target variable\n",
    "train['Loan_Status'] = train['Loan_Status'].apply(lambda x: 0 if x=='N' else 1)"
   ]
  },
  {
   "cell_type": "code",
   "execution_count": 5,
   "metadata": {},
   "outputs": [
    {
     "data": {
      "text/html": [
       "<div>\n",
       "<style scoped>\n",
       "    .dataframe tbody tr th:only-of-type {\n",
       "        vertical-align: middle;\n",
       "    }\n",
       "\n",
       "    .dataframe tbody tr th {\n",
       "        vertical-align: top;\n",
       "    }\n",
       "\n",
       "    .dataframe thead th {\n",
       "        text-align: right;\n",
       "    }\n",
       "</style>\n",
       "<table border=\"1\" class=\"dataframe\">\n",
       "  <thead>\n",
       "    <tr style=\"text-align: right;\">\n",
       "      <th></th>\n",
       "      <th>Loan_ID</th>\n",
       "      <th>Gender</th>\n",
       "      <th>Married</th>\n",
       "      <th>Dependents</th>\n",
       "      <th>Education</th>\n",
       "      <th>Self_Employed</th>\n",
       "      <th>ApplicantIncome</th>\n",
       "      <th>CoapplicantIncome</th>\n",
       "      <th>LoanAmount</th>\n",
       "      <th>Loan_Amount_Term</th>\n",
       "      <th>Credit_History</th>\n",
       "      <th>Property_Area</th>\n",
       "      <th>Loan_Status</th>\n",
       "    </tr>\n",
       "  </thead>\n",
       "  <tbody>\n",
       "    <tr>\n",
       "      <th>0</th>\n",
       "      <td>LP001002</td>\n",
       "      <td>Male</td>\n",
       "      <td>No</td>\n",
       "      <td>0</td>\n",
       "      <td>Graduate</td>\n",
       "      <td>No</td>\n",
       "      <td>5849</td>\n",
       "      <td>0.0</td>\n",
       "      <td>NaN</td>\n",
       "      <td>360.0</td>\n",
       "      <td>1.0</td>\n",
       "      <td>Urban</td>\n",
       "      <td>1</td>\n",
       "    </tr>\n",
       "    <tr>\n",
       "      <th>1</th>\n",
       "      <td>LP001003</td>\n",
       "      <td>Male</td>\n",
       "      <td>Yes</td>\n",
       "      <td>1</td>\n",
       "      <td>Graduate</td>\n",
       "      <td>No</td>\n",
       "      <td>4583</td>\n",
       "      <td>1508.0</td>\n",
       "      <td>128.0</td>\n",
       "      <td>360.0</td>\n",
       "      <td>1.0</td>\n",
       "      <td>Rural</td>\n",
       "      <td>0</td>\n",
       "    </tr>\n",
       "    <tr>\n",
       "      <th>2</th>\n",
       "      <td>LP001005</td>\n",
       "      <td>Male</td>\n",
       "      <td>Yes</td>\n",
       "      <td>0</td>\n",
       "      <td>Graduate</td>\n",
       "      <td>Yes</td>\n",
       "      <td>3000</td>\n",
       "      <td>0.0</td>\n",
       "      <td>66.0</td>\n",
       "      <td>360.0</td>\n",
       "      <td>1.0</td>\n",
       "      <td>Urban</td>\n",
       "      <td>1</td>\n",
       "    </tr>\n",
       "    <tr>\n",
       "      <th>3</th>\n",
       "      <td>LP001006</td>\n",
       "      <td>Male</td>\n",
       "      <td>Yes</td>\n",
       "      <td>0</td>\n",
       "      <td>Not Graduate</td>\n",
       "      <td>No</td>\n",
       "      <td>2583</td>\n",
       "      <td>2358.0</td>\n",
       "      <td>120.0</td>\n",
       "      <td>360.0</td>\n",
       "      <td>1.0</td>\n",
       "      <td>Urban</td>\n",
       "      <td>1</td>\n",
       "    </tr>\n",
       "    <tr>\n",
       "      <th>4</th>\n",
       "      <td>LP001008</td>\n",
       "      <td>Male</td>\n",
       "      <td>No</td>\n",
       "      <td>0</td>\n",
       "      <td>Graduate</td>\n",
       "      <td>No</td>\n",
       "      <td>6000</td>\n",
       "      <td>0.0</td>\n",
       "      <td>141.0</td>\n",
       "      <td>360.0</td>\n",
       "      <td>1.0</td>\n",
       "      <td>Urban</td>\n",
       "      <td>1</td>\n",
       "    </tr>\n",
       "  </tbody>\n",
       "</table>\n",
       "</div>"
      ],
      "text/plain": [
       "    Loan_ID Gender Married Dependents     Education Self_Employed  \\\n",
       "0  LP001002   Male      No          0      Graduate            No   \n",
       "1  LP001003   Male     Yes          1      Graduate            No   \n",
       "2  LP001005   Male     Yes          0      Graduate           Yes   \n",
       "3  LP001006   Male     Yes          0  Not Graduate            No   \n",
       "4  LP001008   Male      No          0      Graduate            No   \n",
       "\n",
       "   ApplicantIncome  CoapplicantIncome  LoanAmount  Loan_Amount_Term  \\\n",
       "0             5849                0.0         NaN             360.0   \n",
       "1             4583             1508.0       128.0             360.0   \n",
       "2             3000                0.0        66.0             360.0   \n",
       "3             2583             2358.0       120.0             360.0   \n",
       "4             6000                0.0       141.0             360.0   \n",
       "\n",
       "   Credit_History Property_Area  Loan_Status  \n",
       "0             1.0         Urban            1  \n",
       "1             1.0         Rural            0  \n",
       "2             1.0         Urban            1  \n",
       "3             1.0         Urban            1  \n",
       "4             1.0         Urban            1  "
      ]
     },
     "execution_count": 5,
     "metadata": {},
     "output_type": "execute_result"
    }
   ],
   "source": [
    "train.head()"
   ]
  },
  {
   "cell_type": "code",
   "execution_count": 6,
   "metadata": {},
   "outputs": [],
   "source": [
    "#merging both test and train\n",
    "train_test=pd.concat([train,test],ignore_index=True)"
   ]
  },
  {
   "cell_type": "code",
   "execution_count": 7,
   "metadata": {},
   "outputs": [
    {
     "data": {
      "text/plain": [
       "Loan_ID               0\n",
       "Gender               13\n",
       "Married               3\n",
       "Dependents           15\n",
       "Education             0\n",
       "Self_Employed        32\n",
       "ApplicantIncome       0\n",
       "CoapplicantIncome     0\n",
       "LoanAmount           22\n",
       "Loan_Amount_Term     14\n",
       "Credit_History       50\n",
       "Property_Area         0\n",
       "Loan_Status           0\n",
       "dtype: int64"
      ]
     },
     "execution_count": 7,
     "metadata": {},
     "output_type": "execute_result"
    }
   ],
   "source": [
    "train.isnull().sum()"
   ]
  },
  {
   "cell_type": "code",
   "execution_count": 8,
   "metadata": {},
   "outputs": [],
   "source": [
    "train_test.drop(['Loan_ID'],1,inplace=True)"
   ]
  },
  {
   "cell_type": "code",
   "execution_count": 9,
   "metadata": {},
   "outputs": [
    {
     "data": {
      "text/plain": [
       "Loan_ID               0\n",
       "Gender               11\n",
       "Married               0\n",
       "Dependents           10\n",
       "Education             0\n",
       "Self_Employed        23\n",
       "ApplicantIncome       0\n",
       "CoapplicantIncome     0\n",
       "LoanAmount            5\n",
       "Loan_Amount_Term      6\n",
       "Credit_History       29\n",
       "Property_Area         0\n",
       "dtype: int64"
      ]
     },
     "execution_count": 9,
     "metadata": {},
     "output_type": "execute_result"
    }
   ],
   "source": [
    "test.isnull().sum()"
   ]
  },
  {
   "cell_type": "code",
   "execution_count": 10,
   "metadata": {},
   "outputs": [
    {
     "data": {
      "text/plain": [
       "Gender                24\n",
       "Married                3\n",
       "Dependents            25\n",
       "Education              0\n",
       "Self_Employed         55\n",
       "ApplicantIncome        0\n",
       "CoapplicantIncome      0\n",
       "LoanAmount            27\n",
       "Loan_Amount_Term      20\n",
       "Credit_History        79\n",
       "Property_Area          0\n",
       "Loan_Status          367\n",
       "dtype: int64"
      ]
     },
     "execution_count": 10,
     "metadata": {},
     "output_type": "execute_result"
    }
   ],
   "source": [
    "train_test.isnull().sum()"
   ]
  },
  {
   "cell_type": "code",
   "execution_count": null,
   "metadata": {},
   "outputs": [],
   "source": []
  },
  {
   "cell_type": "code",
   "execution_count": 11,
   "metadata": {},
   "outputs": [],
   "source": [
    "## missing value treatment"
   ]
  },
  {
   "cell_type": "code",
   "execution_count": 12,
   "metadata": {},
   "outputs": [
    {
     "data": {
      "text/plain": [
       "Dependents\n",
       "0     Male\n",
       "1     Male\n",
       "2     Male\n",
       "3+    Male\n",
       "Name: Gender, dtype: object"
      ]
     },
     "execution_count": 12,
     "metadata": {},
     "output_type": "execute_result"
    }
   ],
   "source": [
    "train.groupby(['Dependents'])['Gender'].agg(pd.Series.mode)#.mode(np.mode())"
   ]
  },
  {
   "cell_type": "code",
   "execution_count": 13,
   "metadata": {},
   "outputs": [
    {
     "data": {
      "text/plain": [
       "Male      775\n",
       "Female    182\n",
       "Name: Gender, dtype: int64"
      ]
     },
     "execution_count": 13,
     "metadata": {},
     "output_type": "execute_result"
    }
   ],
   "source": [
    "train_test['Gender'].value_counts()"
   ]
  },
  {
   "cell_type": "code",
   "execution_count": 14,
   "metadata": {},
   "outputs": [
    {
     "data": {
      "text/plain": [
       "0     7\n",
       "3+    3\n",
       "2     2\n",
       "1     1\n",
       "Name: Dependents, dtype: int64"
      ]
     },
     "execution_count": 14,
     "metadata": {},
     "output_type": "execute_result"
    }
   ],
   "source": [
    "train[train['Gender'].isna()]['Dependents'].value_counts()"
   ]
  },
  {
   "cell_type": "code",
   "execution_count": 15,
   "metadata": {},
   "outputs": [
    {
     "data": {
      "text/html": [
       "<div>\n",
       "<style scoped>\n",
       "    .dataframe tbody tr th:only-of-type {\n",
       "        vertical-align: middle;\n",
       "    }\n",
       "\n",
       "    .dataframe tbody tr th {\n",
       "        vertical-align: top;\n",
       "    }\n",
       "\n",
       "    .dataframe thead th {\n",
       "        text-align: right;\n",
       "    }\n",
       "</style>\n",
       "<table border=\"1\" class=\"dataframe\">\n",
       "  <thead>\n",
       "    <tr style=\"text-align: right;\">\n",
       "      <th>Dependents</th>\n",
       "      <th>0</th>\n",
       "      <th>1</th>\n",
       "      <th>2</th>\n",
       "      <th>3+</th>\n",
       "    </tr>\n",
       "    <tr>\n",
       "      <th>Gender</th>\n",
       "      <th></th>\n",
       "      <th></th>\n",
       "      <th></th>\n",
       "      <th></th>\n",
       "    </tr>\n",
       "  </thead>\n",
       "  <tbody>\n",
       "    <tr>\n",
       "      <th>Female</th>\n",
       "      <td>123</td>\n",
       "      <td>32</td>\n",
       "      <td>13</td>\n",
       "      <td>9</td>\n",
       "    </tr>\n",
       "    <tr>\n",
       "      <th>Male</th>\n",
       "      <td>408</td>\n",
       "      <td>125</td>\n",
       "      <td>145</td>\n",
       "      <td>78</td>\n",
       "    </tr>\n",
       "  </tbody>\n",
       "</table>\n",
       "</div>"
      ],
      "text/plain": [
       "Dependents    0    1    2  3+\n",
       "Gender                       \n",
       "Female      123   32   13   9\n",
       "Male        408  125  145  78"
      ]
     },
     "execution_count": 15,
     "metadata": {},
     "output_type": "execute_result"
    }
   ],
   "source": [
    "pd.crosstab(train_test.Gender,train_test.Dependents)"
   ]
  },
  {
   "cell_type": "code",
   "execution_count": 16,
   "metadata": {},
   "outputs": [
    {
     "data": {
      "text/html": [
       "<div>\n",
       "<style scoped>\n",
       "    .dataframe tbody tr th:only-of-type {\n",
       "        vertical-align: middle;\n",
       "    }\n",
       "\n",
       "    .dataframe tbody tr th {\n",
       "        vertical-align: top;\n",
       "    }\n",
       "\n",
       "    .dataframe thead th {\n",
       "        text-align: right;\n",
       "    }\n",
       "</style>\n",
       "<table border=\"1\" class=\"dataframe\">\n",
       "  <thead>\n",
       "    <tr style=\"text-align: right;\">\n",
       "      <th></th>\n",
       "      <th></th>\n",
       "      <th></th>\n",
       "      <th></th>\n",
       "      <th>Gender</th>\n",
       "    </tr>\n",
       "    <tr>\n",
       "      <th>Married</th>\n",
       "      <th>Dependents</th>\n",
       "      <th>Self_Employed</th>\n",
       "      <th>Gender</th>\n",
       "      <th></th>\n",
       "    </tr>\n",
       "  </thead>\n",
       "  <tbody>\n",
       "    <tr>\n",
       "      <th rowspan=\"5\" valign=\"top\">No</th>\n",
       "      <th rowspan=\"4\" valign=\"top\">0</th>\n",
       "      <th rowspan=\"2\" valign=\"top\">No</th>\n",
       "      <th>Male</th>\n",
       "      <td>147</td>\n",
       "    </tr>\n",
       "    <tr>\n",
       "      <th>Female</th>\n",
       "      <td>77</td>\n",
       "    </tr>\n",
       "    <tr>\n",
       "      <th rowspan=\"2\" valign=\"top\">Yes</th>\n",
       "      <th>Male</th>\n",
       "      <td>20</td>\n",
       "    </tr>\n",
       "    <tr>\n",
       "      <th>Female</th>\n",
       "      <td>10</td>\n",
       "    </tr>\n",
       "    <tr>\n",
       "      <th>1</th>\n",
       "      <th>No</th>\n",
       "      <th>Female</th>\n",
       "      <td>14</td>\n",
       "    </tr>\n",
       "  </tbody>\n",
       "</table>\n",
       "</div>"
      ],
      "text/plain": [
       "                                         Gender\n",
       "Married Dependents Self_Employed Gender        \n",
       "No      0          No            Male       147\n",
       "                                 Female      77\n",
       "                   Yes           Male        20\n",
       "                                 Female      10\n",
       "        1          No            Female      14"
      ]
     },
     "execution_count": 16,
     "metadata": {},
     "output_type": "execute_result"
    }
   ],
   "source": [
    "pd.DataFrame(train_test.groupby(['Married','Dependents','Self_Employed'])['Gender'].value_counts()).head()\n",
    "#train_test['Gender'].fillna(train_test['Gender'].value_counts().index[0],inplace=True)\n"
   ]
  },
  {
   "cell_type": "code",
   "execution_count": 17,
   "metadata": {},
   "outputs": [],
   "source": [
    "#train_test.groupby(['Married','Dependents','Self_Employed'])['Gender'].value_counts().reset_index()"
   ]
  },
  {
   "cell_type": "code",
   "execution_count": 18,
   "metadata": {},
   "outputs": [],
   "source": [
    "#lets create a bar function\n",
    "def bar_chart(feature):\n",
    "    yes = train_test[train_test['Loan_Status']==1][feature].value_counts()\n",
    "    no =  train_test[ train_test['Loan_Status']==0][feature].value_counts()\n",
    "    df = pd.DataFrame([yes,no])\n",
    "    df.index = ['yes','no']\n",
    "    df.plot(kind='bar',stacked=True, figsize=(10,5))"
   ]
  },
  {
   "cell_type": "code",
   "execution_count": 19,
   "metadata": {},
   "outputs": [
    {
     "data": {
      "image/png": "[encoded data removed]",
      "text/plain": [
       "<Figure size 720x360 with 1 Axes>"
      ]
     },
     "metadata": {
      "needs_background": "light"
     },
     "output_type": "display_data"
    }
   ],
   "source": [
    "bar_chart('Dependents')  "
   ]
  },
  {
   "cell_type": "code",
   "execution_count": null,
   "metadata": {},
   "outputs": [],
   "source": []
  },
  {
   "cell_type": "code",
   "execution_count": 20,
   "metadata": {},
   "outputs": [],
   "source": [
    "train_test[\"Gender\"]=train_test[\"Gender\"].fillna('Male')"
   ]
  },
  {
   "cell_type": "code",
   "execution_count": 21,
   "metadata": {},
   "outputs": [],
   "source": [
    "train_test['Married']=train_test['Married'].fillna('Yes')"
   ]
  },
  {
   "cell_type": "code",
   "execution_count": 22,
   "metadata": {},
   "outputs": [
    {
     "data": {
      "text/plain": [
       "Gender                 0\n",
       "Married                0\n",
       "Dependents            25\n",
       "Education              0\n",
       "Self_Employed         55\n",
       "ApplicantIncome        0\n",
       "CoapplicantIncome      0\n",
       "LoanAmount            27\n",
       "Loan_Amount_Term      20\n",
       "Credit_History        79\n",
       "Property_Area          0\n",
       "Loan_Status          367\n",
       "dtype: int64"
      ]
     },
     "execution_count": 22,
     "metadata": {},
     "output_type": "execute_result"
    }
   ],
   "source": [
    "train_test.isnull().sum()"
   ]
  },
  {
   "cell_type": "code",
   "execution_count": 23,
   "metadata": {},
   "outputs": [
    {
     "data": {
      "text/plain": [
       "0     545\n",
       "2     160\n",
       "1     160\n",
       "3+     91\n",
       "Name: Dependents, dtype: int64"
      ]
     },
     "execution_count": 23,
     "metadata": {},
     "output_type": "execute_result"
    }
   ],
   "source": [
    "train_test['Dependents'].value_counts()"
   ]
  },
  {
   "cell_type": "code",
   "execution_count": 24,
   "metadata": {},
   "outputs": [],
   "source": [
    "mapping = {\"0\":0,\"1\":1,\"2\":2,\"3+\":3 }\n",
    "train_test['Dependents']=train_test['Dependents'].map(mapping)"
   ]
  },
  {
   "cell_type": "code",
   "execution_count": 25,
   "metadata": {},
   "outputs": [],
   "source": [
    "train_test[\"Dependents\"].fillna(train_test.groupby([\"Married\",\"Gender\",\"Education\",\"Self_Employed\"])[\"Dependents\"].transform(\"mean\"), inplace=True)"
   ]
  },
  {
   "cell_type": "code",
   "execution_count": 26,
   "metadata": {},
   "outputs": [],
   "source": [
    "train_test['Dependents']=train_test['Dependents'].round(0).astype('int')"
   ]
  },
  {
   "cell_type": "code",
   "execution_count": 27,
   "metadata": {},
   "outputs": [
    {
     "data": {
      "text/plain": [
       "0    554\n",
       "1    176\n",
       "2    160\n",
       "3     91\n",
       "Name: Dependents, dtype: int64"
      ]
     },
     "execution_count": 27,
     "metadata": {},
     "output_type": "execute_result"
    }
   ],
   "source": [
    "train_test['Dependents'].value_counts()"
   ]
  },
  {
   "cell_type": "code",
   "execution_count": 28,
   "metadata": {},
   "outputs": [
    {
     "data": {
      "text/plain": [
       "Gender                 0\n",
       "Married                0\n",
       "Dependents             0\n",
       "Education              0\n",
       "Self_Employed         55\n",
       "ApplicantIncome        0\n",
       "CoapplicantIncome      0\n",
       "LoanAmount            27\n",
       "Loan_Amount_Term      20\n",
       "Credit_History        79\n",
       "Property_Area          0\n",
       "Loan_Status          367\n",
       "dtype: int64"
      ]
     },
     "execution_count": 28,
     "metadata": {},
     "output_type": "execute_result"
    }
   ],
   "source": [
    "train_test.isnull().sum()"
   ]
  },
  {
   "cell_type": "code",
   "execution_count": 29,
   "metadata": {},
   "outputs": [
    {
     "data": {
      "text/plain": [
       "No     807\n",
       "Yes    119\n",
       "Name: Self_Employed, dtype: int64"
      ]
     },
     "execution_count": 29,
     "metadata": {},
     "output_type": "execute_result"
    }
   ],
   "source": [
    "train_test['Self_Employed'].value_counts()"
   ]
  },
  {
   "cell_type": "code",
   "execution_count": 30,
   "metadata": {},
   "outputs": [
    {
     "data": {
      "text/plain": [
       "Dependents\n",
       "0     No\n",
       "1     No\n",
       "2     No\n",
       "3+    No\n",
       "Name: Self_Employed, dtype: object"
      ]
     },
     "execution_count": 30,
     "metadata": {},
     "output_type": "execute_result"
    }
   ],
   "source": [
    "train.groupby(['Dependents'])['Self_Employed'].agg(pd.Series.mode)"
   ]
  },
  {
   "cell_type": "code",
   "execution_count": 31,
   "metadata": {},
   "outputs": [
    {
     "data": {
      "text/plain": [
       "Education\n",
       "Graduate        0\n",
       "Not Graduate    0\n",
       "Name: Dependents, dtype: object"
      ]
     },
     "execution_count": 31,
     "metadata": {},
     "output_type": "execute_result"
    }
   ],
   "source": [
    "train.groupby(['Education'])['Dependents'].agg(pd.Series.mode)"
   ]
  },
  {
   "cell_type": "code",
   "execution_count": 32,
   "metadata": {},
   "outputs": [],
   "source": [
    "train_test['Self_Employed']=train_test['Self_Employed'].fillna('No')"
   ]
  },
  {
   "cell_type": "code",
   "execution_count": 33,
   "metadata": {},
   "outputs": [],
   "source": [
    "train_test[\"LoanAmount\"].fillna(train_test.groupby([\"Married\",\"Gender\",\"Education\",\"Self_Employed\"])[\"LoanAmount\"].transform(\"median\"), inplace=True)"
   ]
  },
  {
   "cell_type": "code",
   "execution_count": 34,
   "metadata": {},
   "outputs": [],
   "source": [
    "train_test[\"Loan_Amount_Term\"].fillna(train_test.groupby([\"Married\",\"Gender\",\"Education\",\"Self_Employed\"])[\"Loan_Amount_Term\"].transform(\"median\"), inplace=True)"
   ]
  },
  {
   "cell_type": "code",
   "execution_count": 35,
   "metadata": {},
   "outputs": [],
   "source": [
    "train_test[\"Credit_History\"].fillna(train_test.groupby([\"Married\",\"Gender\",\"Education\",\"Self_Employed\"])[\"Credit_History\"].transform(\"median\"), inplace=True)"
   ]
  },
  {
   "cell_type": "code",
   "execution_count": 36,
   "metadata": {},
   "outputs": [
    {
     "data": {
      "text/plain": [
       "Gender                 0\n",
       "Married                0\n",
       "Dependents             0\n",
       "Education              0\n",
       "Self_Employed          0\n",
       "ApplicantIncome        0\n",
       "CoapplicantIncome      0\n",
       "LoanAmount             0\n",
       "Loan_Amount_Term       0\n",
       "Credit_History         0\n",
       "Property_Area          0\n",
       "Loan_Status          367\n",
       "dtype: int64"
      ]
     },
     "execution_count": 36,
     "metadata": {},
     "output_type": "execute_result"
    }
   ],
   "source": [
    "train_test.isnull().sum()"
   ]
  },
  {
   "cell_type": "code",
   "execution_count": 37,
   "metadata": {},
   "outputs": [],
   "source": [
    "for feature in train_test.columns: # Loop through all columns in the dataframe\n",
    "    if train_test[feature].dtype == 'object': # Only apply for columns with categorical strings\n",
    "        train_test[feature] = pd.Categorical(train_test[feature]).codes # Replace strings with an integer"
   ]
  },
  {
   "cell_type": "code",
   "execution_count": 38,
   "metadata": {},
   "outputs": [
    {
     "data": {
      "text/plain": [
       "Index(['Gender', 'Married', 'Dependents', 'Education', 'Self_Employed',\n",
       "       'ApplicantIncome', 'CoapplicantIncome', 'LoanAmount',\n",
       "       'Loan_Amount_Term', 'Credit_History', 'Property_Area', 'Loan_Status'],\n",
       "      dtype='object')"
      ]
     },
     "execution_count": 38,
     "metadata": {},
     "output_type": "execute_result"
    }
   ],
   "source": [
    "train_test.columns\n",
    "features=['Gender', 'Married', 'Dependents', 'Education', 'Self_Employed',\n",
    "       'ApplicantIncome', 'CoapplicantIncome', 'LoanAmount',\n",
    "       'Loan_Amount_Term', 'Credit_History']"
   ]
  },
  {
   "cell_type": "code",
   "execution_count": 39,
   "metadata": {},
   "outputs": [],
   "source": [
    "def add_feature_df(df,features):\n",
    "    # count +ve and -ve\n",
    "    df['count+'] = np.array(df>0).sum(axis=1)\n",
    "    df['count-'] = np.array(df<0).sum(axis=1)\n",
    "    #sum\n",
    "    #df['sum_outside'] = df.sum(axis=1)\n",
    "        \n",
    "    for feature in features:\n",
    "        #normalize\n",
    "        df[feature+'_norm'] = (df[feature] - df[feature].mean())/df[feature].std()*(df[feature] - df[feature].mean())/df[feature].std()\n",
    "        #percentage change row wise\n",
    "        #df[feature+\"_pct\"] = df[feature].pct_change() # didnt give boost\n",
    "        #diff change row wise\n",
    "        #df[feature+\"_diff\"] = df[feature].diff() # didnt give boost\n",
    "        # Square\n",
    "        df[feature+'^2'] = df[feature] * df[feature]\n",
    "        # Cube\n",
    "        df[feature+'^3'] = df[feature] * df[feature] * df[feature]\n",
    "        # 4th power\n",
    "        #df[feature+'^4'] = df[feature] * df[feature] * df[feature] * df[feature]\n",
    "        # Cumulative percentile (not normalized)\n",
    "        df[feature+'_cp'] = rankdata(df[feature]).astype('float32')\n",
    "        # Cumulative normal percentile, probabilites\n",
    "        df[feature+'_cnp'] = norm.cdf(df[feature]).astype('float32')*norm.cdf(df[feature]).astype('float32')\n",
    "        # sqrt\n",
    "        df[feature+'_sqrt'] = np.sqrt(df[feature])\n",
    "        #binning\n",
    "        #bins = np.nanpercentile(df[feature], range(0,101,10))\n",
    "        #df[feature+\"_binned\"] = pd.cut(df[feature],bins=bins)\n",
    "        #rounding\n",
    "        #df[feature+'_r2'] = np.round(df[feature], 2)\n",
    "        #rounding\n",
    "        #df['r1_'+feature] = np.round(df[feature], 1)\n",
    "        #exp\n",
    "        df['exp_'+feature] = np.exp(df[feature])\n",
    "        #exp and feature\n",
    "        df['xintoexp_'+feature] = np.exp(df[feature])*df[feature]\n",
    "        #sum\n",
    "        df['sum_inside'] = df[[feature]].sum(axis=1)\n",
    "        #max\n",
    "        df['max'] = df[[feature]].max(axis=1)\n",
    "        #min\n",
    "        df['min'] = df[[feature]].min(axis=1)\n",
    "        #max\n",
    "        #df['std'] = df[[feature]].std(axis=1)\n",
    "        #skew\n",
    "        #df['skew'] = df[[feature]].skew(axis=1)*df[[feature]].skew(axis=1)\n",
    "        #kurt\n",
    "        #df['kurt'] = df[[feature]].kurtosis(axis=1)\n",
    "        #median\n",
    "        df['med'] = df[[feature]].median(axis=1)\n",
    "        #tanh\n",
    "        df['tanh_'+feature] = np.tanh(df[feature])\n",
    "        \n",
    "    return df"
   ]
  },
  {
   "cell_type": "code",
   "execution_count": 40,
   "metadata": {},
   "outputs": [],
   "source": [
    "#data2=add_feature_df(train_test,features)\n",
    "data2=train_test"
   ]
  },
  {
   "cell_type": "code",
   "execution_count": 41,
   "metadata": {},
   "outputs": [],
   "source": [
    "#data2 = ((data2 - data2.mean())/(data2.max() - data2.min()))"
   ]
  },
  {
   "cell_type": "code",
   "execution_count": 42,
   "metadata": {},
   "outputs": [],
   "source": [
    "#test+train main\n",
    "xtrain=data2[:ntrain].drop(label_col,1)\n",
    "ytrain=data2[:ntrain][label_col]\n",
    "xtest=data2[ntrain:].drop(label_col,1)\n",
    "ytest=data2[ntrain:][label_col]"
   ]
  },
  {
   "cell_type": "code",
   "execution_count": 43,
   "metadata": {},
   "outputs": [],
   "source": [
    "#pip install -U imbalanced-learn"
   ]
  },
  {
   "cell_type": "code",
   "execution_count": 45,
   "metadata": {},
   "outputs": [],
   "source": [
    "#from imblearn.over_sampling import SMOTE\n",
    "#smote=SMOTE(random_state=40)\n",
    "#x_res, y_res=smote.fit_sample(newdata, Labels)"
   ]
  },
  {
   "cell_type": "code",
   "execution_count": 400,
   "metadata": {},
   "outputs": [
    {
     "data": {
      "text/plain": [
       "0"
      ]
     },
     "execution_count": 400,
     "metadata": {},
     "output_type": "execute_result"
    }
   ],
   "source": [
    "xtrain.isnull().sum().sum()"
   ]
  },
  {
   "cell_type": "code",
   "execution_count": 46,
   "metadata": {},
   "outputs": [],
   "source": [
    "#Validating #spliting train test\n",
    "from sklearn.model_selection import train_test_split\n",
    "X_train, X_test, y_train, y_test = train_test_split(xtrain,ytrain, test_size=0.25, random_state=55)"
   ]
  },
  {
   "cell_type": "code",
   "execution_count": 47,
   "metadata": {
    "scrolled": true
   },
   "outputs": [
    {
     "data": {
      "text/plain": [
       "0.7402597402597403"
      ]
     },
     "execution_count": 47,
     "metadata": {},
     "output_type": "execute_result"
    }
   ],
   "source": [
    "from sklearn.ensemble import GradientBoostingClassifier\n",
    "gbcl = GradientBoostingClassifier(n_estimators = 1000, random_state=1)\n",
    "gbcl = gbcl.fit(X_train, y_train)\n",
    "gbcl.score(X_test , y_test)"
   ]
  },
  {
   "cell_type": "code",
   "execution_count": 49,
   "metadata": {},
   "outputs": [
    {
     "name": "stdout",
     "output_type": "stream",
     "text": [
      "[16:24:13] WARNING: C:/Users/Administrator/workspace/xgboost-win64_release_1.4.0/src/learner.cc:1095: Starting in XGBoost 1.3.0, the default evaluation metric used with the objective 'binary:logistic' was changed from 'error' to 'logloss'. Explicitly set eval_metric if you'd like to restore the old behavior.\n"
     ]
    },
    {
     "data": {
      "text/plain": [
       "0.7207792207792207"
      ]
     },
     "execution_count": 49,
     "metadata": {},
     "output_type": "execute_result"
    }
   ],
   "source": [
    "import xgboost as xgb\n",
    "from xgboost.sklearn import XGBClassifier\n",
    "from xgboost.sklearn import XGBRegressor\n",
    "from sklearn.ensemble import BaggingClassifier\n",
    "from sklearn import model_selection\n",
    "from sklearn.utils import resample\n",
    "from sklearn.metrics import accuracy_score\n",
    "from sklearn import metrics\n",
    "\n",
    "xbg = XGBClassifier()\n",
    "\n",
    "xbgclas = xbg.fit(X_train, y_train)\n",
    "test_pred = xbgclas.predict(X_test)\n",
    "xbgclas.score(X_test , y_test)"
   ]
  },
  {
   "cell_type": "code",
   "execution_count": 50,
   "metadata": {},
   "outputs": [
    {
     "ename": "NameError",
     "evalue": "name 'DTClassifier' is not defined",
     "output_type": "error",
     "traceback": [
      "\u001b[1;31m---------------------------------------------------------------------------\u001b[0m",
      "\u001b[1;31mNameError\u001b[0m                                 Traceback (most recent call last)",
      "\u001b[1;32m<ipython-input-50-7500ef193755>\u001b[0m in \u001b[0;36m<module>\u001b[1;34m\u001b[0m\n\u001b[0;32m      1\u001b[0m \u001b[1;31m#bagging\u001b[0m\u001b[1;33m\u001b[0m\u001b[1;33m\u001b[0m\u001b[1;33m\u001b[0m\u001b[0m\n\u001b[0;32m      2\u001b[0m \u001b[1;33m\u001b[0m\u001b[0m\n\u001b[1;32m----> 3\u001b[1;33m \u001b[0mbgcl\u001b[0m \u001b[1;33m=\u001b[0m \u001b[0mBaggingClassifier\u001b[0m\u001b[1;33m(\u001b[0m\u001b[0mbase_estimator\u001b[0m\u001b[1;33m=\u001b[0m\u001b[0mDTClassifier\u001b[0m\u001b[1;33m,\u001b[0m \u001b[0mn_estimators\u001b[0m\u001b[1;33m=\u001b[0m\u001b[1;36m50\u001b[0m\u001b[1;33m,\u001b[0m \u001b[0moob_score\u001b[0m\u001b[1;33m=\u001b[0m \u001b[1;32mTrue\u001b[0m\u001b[1;33m)\u001b[0m\u001b[1;33m\u001b[0m\u001b[1;33m\u001b[0m\u001b[0m\n\u001b[0m\u001b[0;32m      4\u001b[0m \u001b[0mbgcl\u001b[0m \u001b[1;33m=\u001b[0m \u001b[0mbgcl\u001b[0m\u001b[1;33m.\u001b[0m\u001b[0mfit\u001b[0m\u001b[1;33m(\u001b[0m\u001b[0mX_train\u001b[0m\u001b[1;33m,\u001b[0m\u001b[0my_train\u001b[0m\u001b[1;33m)\u001b[0m\u001b[1;33m\u001b[0m\u001b[1;33m\u001b[0m\u001b[0m\n\u001b[0;32m      5\u001b[0m \u001b[0mprint\u001b[0m\u001b[1;33m(\u001b[0m\u001b[1;34m\"bgcl on train data \"\u001b[0m\u001b[1;33m,\u001b[0m \u001b[0mbgcl\u001b[0m\u001b[1;33m.\u001b[0m\u001b[0mscore\u001b[0m\u001b[1;33m(\u001b[0m\u001b[0mX_train\u001b[0m\u001b[1;33m,\u001b[0m\u001b[0my_train\u001b[0m\u001b[1;33m)\u001b[0m\u001b[1;33m)\u001b[0m\u001b[1;33m\u001b[0m\u001b[1;33m\u001b[0m\u001b[0m\n",
      "\u001b[1;31mNameError\u001b[0m: name 'DTClassifier' is not defined"
     ]
    }
   ],
   "source": [
    "#bagging\n",
    "\n",
    "bgcl = BaggingClassifier(base_estimator=DTClassifier, n_estimators=50, oob_score= True)\n",
    "bgcl = bgcl.fit(X_train,y_train)\n",
    "print(\"bgcl on train data \", bgcl.score(X_train,y_train))\n",
    "print(\"bgcl on test data \", bgcl.score(X_test,y_test))\n",
    "print(\"out of bag score\" , bgcl.oob_score_)"
   ]
  },
  {
   "cell_type": "code",
   "execution_count": 51,
   "metadata": {},
   "outputs": [
    {
     "name": "stdout",
     "output_type": "stream",
     "text": [
      "Learning rate set to 0.007395\n",
      "0:\tlearn: 0.6886145\ttotal: 162ms\tremaining: 2m 41s\n",
      "1:\tlearn: 0.6842819\ttotal: 164ms\tremaining: 1m 21s\n",
      "2:\tlearn: 0.6800075\ttotal: 166ms\tremaining: 55.3s\n",
      "3:\tlearn: 0.6759031\ttotal: 170ms\tremaining: 42.3s\n",
      "4:\tlearn: 0.6711879\ttotal: 172ms\tremaining: 34.3s\n",
      "5:\tlearn: 0.6670426\ttotal: 175ms\tremaining: 29s\n",
      "6:\tlearn: 0.6633796\ttotal: 178ms\tremaining: 25.2s\n",
      "7:\tlearn: 0.6595536\ttotal: 180ms\tremaining: 22.3s\n",
      "8:\tlearn: 0.6554354\ttotal: 183ms\tremaining: 20.1s\n",
      "9:\tlearn: 0.6514741\ttotal: 186ms\tremaining: 18.4s\n",
      "10:\tlearn: 0.6472828\ttotal: 188ms\tremaining: 16.9s\n",
      "11:\tlearn: 0.6432753\ttotal: 192ms\tremaining: 15.8s\n",
      "12:\tlearn: 0.6395208\ttotal: 194ms\tremaining: 14.7s\n",
      "13:\tlearn: 0.6355458\ttotal: 197ms\tremaining: 13.9s\n",
      "14:\tlearn: 0.6317169\ttotal: 200ms\tremaining: 13.1s\n",
      "15:\tlearn: 0.6280334\ttotal: 203ms\tremaining: 12.5s\n",
      "16:\tlearn: 0.6243892\ttotal: 206ms\tremaining: 11.9s\n",
      "17:\tlearn: 0.6209706\ttotal: 209ms\tremaining: 11.4s\n",
      "18:\tlearn: 0.6174889\ttotal: 212ms\tremaining: 10.9s\n",
      "19:\tlearn: 0.6142325\ttotal: 214ms\tremaining: 10.5s\n",
      "20:\tlearn: 0.6112685\ttotal: 216ms\tremaining: 10.1s\n",
      "21:\tlearn: 0.6084969\ttotal: 218ms\tremaining: 9.71s\n",
      "22:\tlearn: 0.6052309\ttotal: 221ms\tremaining: 9.39s\n",
      "23:\tlearn: 0.6022201\ttotal: 223ms\tremaining: 9.07s\n",
      "24:\tlearn: 0.5992577\ttotal: 226ms\tremaining: 8.81s\n",
      "25:\tlearn: 0.5961081\ttotal: 229ms\tremaining: 8.57s\n",
      "26:\tlearn: 0.5931549\ttotal: 232ms\tremaining: 8.34s\n",
      "27:\tlearn: 0.5901787\ttotal: 234ms\tremaining: 8.14s\n",
      "28:\tlearn: 0.5871946\ttotal: 237ms\tremaining: 7.94s\n",
      "29:\tlearn: 0.5843905\ttotal: 240ms\tremaining: 7.76s\n",
      "30:\tlearn: 0.5815205\ttotal: 243ms\tremaining: 7.59s\n",
      "31:\tlearn: 0.5788227\ttotal: 246ms\tremaining: 7.43s\n",
      "32:\tlearn: 0.5760708\ttotal: 248ms\tremaining: 7.28s\n",
      "33:\tlearn: 0.5729993\ttotal: 251ms\tremaining: 7.13s\n",
      "34:\tlearn: 0.5704731\ttotal: 254ms\tremaining: 7s\n",
      "35:\tlearn: 0.5683319\ttotal: 255ms\tremaining: 6.84s\n",
      "36:\tlearn: 0.5658042\ttotal: 258ms\tremaining: 6.71s\n",
      "37:\tlearn: 0.5627509\ttotal: 260ms\tremaining: 6.59s\n",
      "38:\tlearn: 0.5604932\ttotal: 262ms\tremaining: 6.46s\n",
      "39:\tlearn: 0.5584806\ttotal: 264ms\tremaining: 6.32s\n",
      "40:\tlearn: 0.5563297\ttotal: 266ms\tremaining: 6.22s\n",
      "41:\tlearn: 0.5540112\ttotal: 269ms\tremaining: 6.13s\n",
      "42:\tlearn: 0.5515240\ttotal: 271ms\tremaining: 6.04s\n",
      "43:\tlearn: 0.5488773\ttotal: 274ms\tremaining: 5.95s\n",
      "44:\tlearn: 0.5464871\ttotal: 276ms\tremaining: 5.87s\n",
      "45:\tlearn: 0.5443376\ttotal: 279ms\tremaining: 5.78s\n",
      "46:\tlearn: 0.5426312\ttotal: 280ms\tremaining: 5.68s\n",
      "47:\tlearn: 0.5405595\ttotal: 283ms\tremaining: 5.61s\n",
      "48:\tlearn: 0.5383350\ttotal: 285ms\tremaining: 5.53s\n",
      "49:\tlearn: 0.5362041\ttotal: 287ms\tremaining: 5.46s\n",
      "50:\tlearn: 0.5344376\ttotal: 289ms\tremaining: 5.38s\n",
      "51:\tlearn: 0.5322023\ttotal: 292ms\tremaining: 5.32s\n",
      "52:\tlearn: 0.5301484\ttotal: 294ms\tremaining: 5.26s\n",
      "53:\tlearn: 0.5281385\ttotal: 297ms\tremaining: 5.2s\n",
      "54:\tlearn: 0.5261942\ttotal: 299ms\tremaining: 5.14s\n",
      "55:\tlearn: 0.5240999\ttotal: 302ms\tremaining: 5.08s\n",
      "56:\tlearn: 0.5220990\ttotal: 304ms\tremaining: 5.03s\n",
      "57:\tlearn: 0.5200109\ttotal: 307ms\tremaining: 4.99s\n",
      "58:\tlearn: 0.5183190\ttotal: 310ms\tremaining: 4.94s\n",
      "59:\tlearn: 0.5165174\ttotal: 312ms\tremaining: 4.89s\n",
      "60:\tlearn: 0.5146207\ttotal: 315ms\tremaining: 4.85s\n",
      "61:\tlearn: 0.5131291\ttotal: 317ms\tremaining: 4.8s\n",
      "62:\tlearn: 0.5116027\ttotal: 320ms\tremaining: 4.75s\n",
      "63:\tlearn: 0.5099544\ttotal: 322ms\tremaining: 4.71s\n",
      "64:\tlearn: 0.5084444\ttotal: 324ms\tremaining: 4.67s\n",
      "65:\tlearn: 0.5069280\ttotal: 327ms\tremaining: 4.62s\n",
      "66:\tlearn: 0.5052791\ttotal: 329ms\tremaining: 4.58s\n",
      "67:\tlearn: 0.5038546\ttotal: 332ms\tremaining: 4.56s\n",
      "68:\tlearn: 0.5023136\ttotal: 335ms\tremaining: 4.53s\n",
      "69:\tlearn: 0.5007970\ttotal: 338ms\tremaining: 4.49s\n",
      "70:\tlearn: 0.4990615\ttotal: 341ms\tremaining: 4.46s\n",
      "71:\tlearn: 0.4974257\ttotal: 344ms\tremaining: 4.43s\n",
      "72:\tlearn: 0.4958575\ttotal: 346ms\tremaining: 4.4s\n",
      "73:\tlearn: 0.4942048\ttotal: 349ms\tremaining: 4.37s\n",
      "74:\tlearn: 0.4929827\ttotal: 351ms\tremaining: 4.33s\n",
      "75:\tlearn: 0.4913854\ttotal: 354ms\tremaining: 4.3s\n",
      "76:\tlearn: 0.4897580\ttotal: 357ms\tremaining: 4.28s\n",
      "77:\tlearn: 0.4884415\ttotal: 360ms\tremaining: 4.25s\n",
      "78:\tlearn: 0.4867666\ttotal: 363ms\tremaining: 4.23s\n",
      "79:\tlearn: 0.4854738\ttotal: 366ms\tremaining: 4.2s\n",
      "80:\tlearn: 0.4837838\ttotal: 368ms\tremaining: 4.18s\n",
      "81:\tlearn: 0.4824459\ttotal: 371ms\tremaining: 4.15s\n",
      "82:\tlearn: 0.4807937\ttotal: 374ms\tremaining: 4.13s\n",
      "83:\tlearn: 0.4792385\ttotal: 376ms\tremaining: 4.1s\n",
      "84:\tlearn: 0.4779719\ttotal: 379ms\tremaining: 4.08s\n",
      "85:\tlearn: 0.4767706\ttotal: 382ms\tremaining: 4.06s\n",
      "86:\tlearn: 0.4750705\ttotal: 385ms\tremaining: 4.04s\n",
      "87:\tlearn: 0.4741847\ttotal: 386ms\tremaining: 4s\n",
      "88:\tlearn: 0.4729585\ttotal: 389ms\tremaining: 3.98s\n",
      "89:\tlearn: 0.4717314\ttotal: 392ms\tremaining: 3.96s\n",
      "90:\tlearn: 0.4708997\ttotal: 393ms\tremaining: 3.93s\n",
      "91:\tlearn: 0.4702094\ttotal: 396ms\tremaining: 3.91s\n",
      "92:\tlearn: 0.4689469\ttotal: 399ms\tremaining: 3.89s\n",
      "93:\tlearn: 0.4681821\ttotal: 400ms\tremaining: 3.85s\n",
      "94:\tlearn: 0.4671024\ttotal: 403ms\tremaining: 3.83s\n",
      "95:\tlearn: 0.4657743\ttotal: 405ms\tremaining: 3.81s\n",
      "96:\tlearn: 0.4648061\ttotal: 407ms\tremaining: 3.79s\n",
      "97:\tlearn: 0.4632327\ttotal: 409ms\tremaining: 3.77s\n",
      "98:\tlearn: 0.4622632\ttotal: 411ms\tremaining: 3.74s\n",
      "99:\tlearn: 0.4608980\ttotal: 414ms\tremaining: 3.73s\n",
      "100:\tlearn: 0.4598636\ttotal: 417ms\tremaining: 3.71s\n",
      "101:\tlearn: 0.4589022\ttotal: 420ms\tremaining: 3.69s\n",
      "102:\tlearn: 0.4578224\ttotal: 422ms\tremaining: 3.68s\n",
      "103:\tlearn: 0.4567690\ttotal: 425ms\tremaining: 3.66s\n",
      "104:\tlearn: 0.4557602\ttotal: 428ms\tremaining: 3.65s\n",
      "105:\tlearn: 0.4547276\ttotal: 430ms\tremaining: 3.63s\n",
      "106:\tlearn: 0.4538360\ttotal: 433ms\tremaining: 3.61s\n",
      "107:\tlearn: 0.4528044\ttotal: 436ms\tremaining: 3.6s\n",
      "108:\tlearn: 0.4516751\ttotal: 438ms\tremaining: 3.58s\n",
      "109:\tlearn: 0.4506349\ttotal: 440ms\tremaining: 3.56s\n",
      "110:\tlearn: 0.4501826\ttotal: 443ms\tremaining: 3.54s\n",
      "111:\tlearn: 0.4492399\ttotal: 445ms\tremaining: 3.53s\n",
      "112:\tlearn: 0.4482352\ttotal: 447ms\tremaining: 3.51s\n",
      "113:\tlearn: 0.4472088\ttotal: 450ms\tremaining: 3.5s\n",
      "114:\tlearn: 0.4463365\ttotal: 452ms\tremaining: 3.48s\n",
      "115:\tlearn: 0.4452211\ttotal: 455ms\tremaining: 3.47s\n",
      "116:\tlearn: 0.4440567\ttotal: 458ms\tremaining: 3.46s\n",
      "117:\tlearn: 0.4431470\ttotal: 461ms\tremaining: 3.44s\n",
      "118:\tlearn: 0.4420578\ttotal: 464ms\tremaining: 3.43s\n",
      "119:\tlearn: 0.4409474\ttotal: 467ms\tremaining: 3.42s\n",
      "120:\tlearn: 0.4401152\ttotal: 469ms\tremaining: 3.41s\n",
      "121:\tlearn: 0.4391420\ttotal: 472ms\tremaining: 3.4s\n",
      "122:\tlearn: 0.4386577\ttotal: 473ms\tremaining: 3.37s\n",
      "123:\tlearn: 0.4378810\ttotal: 476ms\tremaining: 3.36s\n",
      "124:\tlearn: 0.4370159\ttotal: 479ms\tremaining: 3.35s\n",
      "125:\tlearn: 0.4362801\ttotal: 482ms\tremaining: 3.34s\n",
      "126:\tlearn: 0.4354640\ttotal: 484ms\tremaining: 3.33s\n",
      "127:\tlearn: 0.4348018\ttotal: 486ms\tremaining: 3.31s\n",
      "128:\tlearn: 0.4340828\ttotal: 489ms\tremaining: 3.3s\n",
      "129:\tlearn: 0.4331250\ttotal: 492ms\tremaining: 3.29s\n",
      "130:\tlearn: 0.4321839\ttotal: 495ms\tremaining: 3.29s\n",
      "131:\tlearn: 0.4314667\ttotal: 499ms\tremaining: 3.28s\n",
      "132:\tlearn: 0.4306757\ttotal: 502ms\tremaining: 3.27s\n",
      "133:\tlearn: 0.4298706\ttotal: 505ms\tremaining: 3.26s\n",
      "134:\tlearn: 0.4292753\ttotal: 508ms\tremaining: 3.25s\n",
      "135:\tlearn: 0.4284798\ttotal: 512ms\tremaining: 3.25s\n",
      "136:\tlearn: 0.4277952\ttotal: 514ms\tremaining: 3.24s\n",
      "137:\tlearn: 0.4272018\ttotal: 517ms\tremaining: 3.23s\n",
      "138:\tlearn: 0.4263302\ttotal: 521ms\tremaining: 3.22s\n",
      "139:\tlearn: 0.4256203\ttotal: 523ms\tremaining: 3.21s\n",
      "140:\tlearn: 0.4246581\ttotal: 527ms\tremaining: 3.21s\n",
      "141:\tlearn: 0.4238837\ttotal: 530ms\tremaining: 3.2s\n",
      "142:\tlearn: 0.4231064\ttotal: 532ms\tremaining: 3.19s\n",
      "143:\tlearn: 0.4226880\ttotal: 535ms\tremaining: 3.18s\n",
      "144:\tlearn: 0.4221884\ttotal: 537ms\tremaining: 3.17s\n",
      "145:\tlearn: 0.4214778\ttotal: 541ms\tremaining: 3.16s\n",
      "146:\tlearn: 0.4208980\ttotal: 543ms\tremaining: 3.15s\n",
      "147:\tlearn: 0.4199700\ttotal: 546ms\tremaining: 3.14s\n",
      "148:\tlearn: 0.4193667\ttotal: 549ms\tremaining: 3.13s\n",
      "149:\tlearn: 0.4185098\ttotal: 552ms\tremaining: 3.13s\n",
      "150:\tlearn: 0.4179319\ttotal: 555ms\tremaining: 3.12s\n",
      "151:\tlearn: 0.4171648\ttotal: 558ms\tremaining: 3.11s\n",
      "152:\tlearn: 0.4165094\ttotal: 561ms\tremaining: 3.1s\n",
      "153:\tlearn: 0.4157474\ttotal: 564ms\tremaining: 3.1s\n",
      "154:\tlearn: 0.4148528\ttotal: 567ms\tremaining: 3.09s\n",
      "155:\tlearn: 0.4145147\ttotal: 570ms\tremaining: 3.08s\n",
      "156:\tlearn: 0.4136088\ttotal: 572ms\tremaining: 3.07s\n",
      "157:\tlearn: 0.4128921\ttotal: 575ms\tremaining: 3.07s\n",
      "158:\tlearn: 0.4124306\ttotal: 577ms\tremaining: 3.05s\n",
      "159:\tlearn: 0.4117829\ttotal: 579ms\tremaining: 3.04s\n",
      "160:\tlearn: 0.4112466\ttotal: 582ms\tremaining: 3.03s\n",
      "161:\tlearn: 0.4108778\ttotal: 585ms\tremaining: 3.02s\n",
      "162:\tlearn: 0.4103454\ttotal: 587ms\tremaining: 3.01s\n",
      "163:\tlearn: 0.4097611\ttotal: 590ms\tremaining: 3s\n",
      "164:\tlearn: 0.4093992\ttotal: 592ms\tremaining: 3s\n",
      "165:\tlearn: 0.4086636\ttotal: 595ms\tremaining: 2.99s\n",
      "166:\tlearn: 0.4081058\ttotal: 597ms\tremaining: 2.98s\n",
      "167:\tlearn: 0.4076415\ttotal: 600ms\tremaining: 2.97s\n",
      "168:\tlearn: 0.4069107\ttotal: 603ms\tremaining: 2.96s\n",
      "169:\tlearn: 0.4064253\ttotal: 605ms\tremaining: 2.95s\n",
      "170:\tlearn: 0.4059650\ttotal: 608ms\tremaining: 2.95s\n",
      "171:\tlearn: 0.4054897\ttotal: 611ms\tremaining: 2.94s\n",
      "172:\tlearn: 0.4047930\ttotal: 613ms\tremaining: 2.93s\n",
      "173:\tlearn: 0.4042120\ttotal: 616ms\tremaining: 2.92s\n",
      "174:\tlearn: 0.4034223\ttotal: 618ms\tremaining: 2.92s\n",
      "175:\tlearn: 0.4029685\ttotal: 621ms\tremaining: 2.91s\n",
      "176:\tlearn: 0.4023600\ttotal: 623ms\tremaining: 2.9s\n",
      "177:\tlearn: 0.4017220\ttotal: 626ms\tremaining: 2.89s\n",
      "178:\tlearn: 0.4013535\ttotal: 627ms\tremaining: 2.88s\n",
      "179:\tlearn: 0.4006481\ttotal: 629ms\tremaining: 2.87s\n",
      "180:\tlearn: 0.4004508\ttotal: 630ms\tremaining: 2.85s\n",
      "181:\tlearn: 0.4000499\ttotal: 633ms\tremaining: 2.84s\n",
      "182:\tlearn: 0.3998259\ttotal: 635ms\tremaining: 2.83s\n",
      "183:\tlearn: 0.3991503\ttotal: 637ms\tremaining: 2.83s\n",
      "184:\tlearn: 0.3986480\ttotal: 640ms\tremaining: 2.82s\n",
      "185:\tlearn: 0.3980398\ttotal: 642ms\tremaining: 2.81s\n",
      "186:\tlearn: 0.3976183\ttotal: 644ms\tremaining: 2.8s\n",
      "187:\tlearn: 0.3971343\ttotal: 647ms\tremaining: 2.79s\n",
      "188:\tlearn: 0.3965867\ttotal: 649ms\tremaining: 2.79s\n",
      "189:\tlearn: 0.3961782\ttotal: 652ms\tremaining: 2.78s\n",
      "190:\tlearn: 0.3956501\ttotal: 654ms\tremaining: 2.77s\n",
      "191:\tlearn: 0.3951287\ttotal: 656ms\tremaining: 2.76s\n",
      "192:\tlearn: 0.3950846\ttotal: 657ms\tremaining: 2.75s\n",
      "193:\tlearn: 0.3949011\ttotal: 659ms\tremaining: 2.74s\n",
      "194:\tlearn: 0.3942887\ttotal: 661ms\tremaining: 2.73s\n",
      "195:\tlearn: 0.3936578\ttotal: 664ms\tremaining: 2.72s\n"
     ]
    },
    {
     "name": "stdout",
     "output_type": "stream",
     "text": [
      "196:\tlearn: 0.3931028\ttotal: 667ms\tremaining: 2.72s\n",
      "197:\tlearn: 0.3927127\ttotal: 669ms\tremaining: 2.71s\n",
      "198:\tlearn: 0.3921197\ttotal: 672ms\tremaining: 2.7s\n",
      "199:\tlearn: 0.3917955\ttotal: 675ms\tremaining: 2.7s\n",
      "200:\tlearn: 0.3914009\ttotal: 677ms\tremaining: 2.69s\n",
      "201:\tlearn: 0.3908607\ttotal: 679ms\tremaining: 2.68s\n",
      "202:\tlearn: 0.3905056\ttotal: 682ms\tremaining: 2.68s\n",
      "203:\tlearn: 0.3901105\ttotal: 684ms\tremaining: 2.67s\n",
      "204:\tlearn: 0.3897822\ttotal: 687ms\tremaining: 2.67s\n",
      "205:\tlearn: 0.3893924\ttotal: 690ms\tremaining: 2.66s\n",
      "206:\tlearn: 0.3891395\ttotal: 692ms\tremaining: 2.65s\n",
      "207:\tlearn: 0.3885073\ttotal: 694ms\tremaining: 2.64s\n",
      "208:\tlearn: 0.3881590\ttotal: 697ms\tremaining: 2.64s\n",
      "209:\tlearn: 0.3877965\ttotal: 699ms\tremaining: 2.63s\n",
      "210:\tlearn: 0.3872202\ttotal: 702ms\tremaining: 2.62s\n",
      "211:\tlearn: 0.3869260\ttotal: 704ms\tremaining: 2.62s\n",
      "212:\tlearn: 0.3865920\ttotal: 707ms\tremaining: 2.61s\n",
      "213:\tlearn: 0.3861889\ttotal: 710ms\tremaining: 2.61s\n",
      "214:\tlearn: 0.3858606\ttotal: 712ms\tremaining: 2.6s\n",
      "215:\tlearn: 0.3855587\ttotal: 715ms\tremaining: 2.59s\n",
      "216:\tlearn: 0.3849566\ttotal: 717ms\tremaining: 2.59s\n",
      "217:\tlearn: 0.3844511\ttotal: 719ms\tremaining: 2.58s\n",
      "218:\tlearn: 0.3840957\ttotal: 722ms\tremaining: 2.57s\n",
      "219:\tlearn: 0.3837702\ttotal: 724ms\tremaining: 2.57s\n",
      "220:\tlearn: 0.3834647\ttotal: 727ms\tremaining: 2.56s\n",
      "221:\tlearn: 0.3831322\ttotal: 729ms\tremaining: 2.55s\n",
      "222:\tlearn: 0.3825643\ttotal: 731ms\tremaining: 2.55s\n",
      "223:\tlearn: 0.3822526\ttotal: 734ms\tremaining: 2.54s\n",
      "224:\tlearn: 0.3817006\ttotal: 737ms\tremaining: 2.54s\n",
      "225:\tlearn: 0.3813529\ttotal: 739ms\tremaining: 2.53s\n",
      "226:\tlearn: 0.3810000\ttotal: 742ms\tremaining: 2.52s\n",
      "227:\tlearn: 0.3805502\ttotal: 744ms\tremaining: 2.52s\n",
      "228:\tlearn: 0.3800951\ttotal: 747ms\tremaining: 2.51s\n",
      "229:\tlearn: 0.3797004\ttotal: 749ms\tremaining: 2.51s\n",
      "230:\tlearn: 0.3793744\ttotal: 752ms\tremaining: 2.5s\n",
      "231:\tlearn: 0.3787039\ttotal: 754ms\tremaining: 2.5s\n",
      "232:\tlearn: 0.3783197\ttotal: 757ms\tremaining: 2.49s\n",
      "233:\tlearn: 0.3777206\ttotal: 759ms\tremaining: 2.48s\n",
      "234:\tlearn: 0.3773635\ttotal: 762ms\tremaining: 2.48s\n",
      "235:\tlearn: 0.3770365\ttotal: 764ms\tremaining: 2.47s\n",
      "236:\tlearn: 0.3766680\ttotal: 767ms\tremaining: 2.47s\n",
      "237:\tlearn: 0.3763162\ttotal: 769ms\tremaining: 2.46s\n",
      "238:\tlearn: 0.3759326\ttotal: 772ms\tremaining: 2.46s\n",
      "239:\tlearn: 0.3755720\ttotal: 774ms\tremaining: 2.45s\n",
      "240:\tlearn: 0.3748868\ttotal: 777ms\tremaining: 2.45s\n",
      "241:\tlearn: 0.3744651\ttotal: 779ms\tremaining: 2.44s\n",
      "242:\tlearn: 0.3739670\ttotal: 782ms\tremaining: 2.44s\n",
      "243:\tlearn: 0.3737516\ttotal: 784ms\tremaining: 2.43s\n",
      "244:\tlearn: 0.3734049\ttotal: 786ms\tremaining: 2.42s\n",
      "245:\tlearn: 0.3731193\ttotal: 789ms\tremaining: 2.42s\n",
      "246:\tlearn: 0.3728644\ttotal: 791ms\tremaining: 2.41s\n",
      "247:\tlearn: 0.3724962\ttotal: 794ms\tremaining: 2.41s\n",
      "248:\tlearn: 0.3721371\ttotal: 796ms\tremaining: 2.4s\n",
      "249:\tlearn: 0.3718156\ttotal: 799ms\tremaining: 2.4s\n",
      "250:\tlearn: 0.3715700\ttotal: 801ms\tremaining: 2.39s\n",
      "251:\tlearn: 0.3713908\ttotal: 804ms\tremaining: 2.38s\n",
      "252:\tlearn: 0.3710156\ttotal: 806ms\tremaining: 2.38s\n",
      "253:\tlearn: 0.3706692\ttotal: 809ms\tremaining: 2.38s\n",
      "254:\tlearn: 0.3703624\ttotal: 811ms\tremaining: 2.37s\n",
      "255:\tlearn: 0.3702042\ttotal: 814ms\tremaining: 2.37s\n",
      "256:\tlearn: 0.3696595\ttotal: 817ms\tremaining: 2.36s\n",
      "257:\tlearn: 0.3693128\ttotal: 819ms\tremaining: 2.35s\n",
      "258:\tlearn: 0.3689558\ttotal: 823ms\tremaining: 2.35s\n",
      "259:\tlearn: 0.3686873\ttotal: 826ms\tremaining: 2.35s\n",
      "260:\tlearn: 0.3683770\ttotal: 829ms\tremaining: 2.35s\n",
      "261:\tlearn: 0.3681430\ttotal: 831ms\tremaining: 2.34s\n",
      "262:\tlearn: 0.3678943\ttotal: 834ms\tremaining: 2.33s\n",
      "263:\tlearn: 0.3675869\ttotal: 836ms\tremaining: 2.33s\n",
      "264:\tlearn: 0.3672743\ttotal: 839ms\tremaining: 2.33s\n",
      "265:\tlearn: 0.3667508\ttotal: 842ms\tremaining: 2.32s\n",
      "266:\tlearn: 0.3662177\ttotal: 845ms\tremaining: 2.32s\n",
      "267:\tlearn: 0.3660586\ttotal: 847ms\tremaining: 2.31s\n",
      "268:\tlearn: 0.3656822\ttotal: 850ms\tremaining: 2.31s\n",
      "269:\tlearn: 0.3651785\ttotal: 853ms\tremaining: 2.3s\n",
      "270:\tlearn: 0.3648580\ttotal: 855ms\tremaining: 2.3s\n",
      "271:\tlearn: 0.3646100\ttotal: 858ms\tremaining: 2.29s\n",
      "272:\tlearn: 0.3642909\ttotal: 860ms\tremaining: 2.29s\n",
      "273:\tlearn: 0.3637557\ttotal: 863ms\tremaining: 2.29s\n",
      "274:\tlearn: 0.3633933\ttotal: 866ms\tremaining: 2.28s\n",
      "275:\tlearn: 0.3630286\ttotal: 869ms\tremaining: 2.28s\n",
      "276:\tlearn: 0.3628214\ttotal: 872ms\tremaining: 2.27s\n",
      "277:\tlearn: 0.3623745\ttotal: 874ms\tremaining: 2.27s\n",
      "278:\tlearn: 0.3620671\ttotal: 877ms\tremaining: 2.27s\n",
      "279:\tlearn: 0.3615819\ttotal: 880ms\tremaining: 2.26s\n",
      "280:\tlearn: 0.3609139\ttotal: 884ms\tremaining: 2.26s\n",
      "281:\tlearn: 0.3602930\ttotal: 886ms\tremaining: 2.26s\n",
      "282:\tlearn: 0.3599857\ttotal: 889ms\tremaining: 2.25s\n",
      "283:\tlearn: 0.3597036\ttotal: 892ms\tremaining: 2.25s\n",
      "284:\tlearn: 0.3591140\ttotal: 895ms\tremaining: 2.25s\n",
      "285:\tlearn: 0.3588698\ttotal: 898ms\tremaining: 2.24s\n",
      "286:\tlearn: 0.3586561\ttotal: 901ms\tremaining: 2.24s\n",
      "287:\tlearn: 0.3586294\ttotal: 902ms\tremaining: 2.23s\n",
      "288:\tlearn: 0.3583521\ttotal: 905ms\tremaining: 2.23s\n",
      "289:\tlearn: 0.3580318\ttotal: 908ms\tremaining: 2.22s\n",
      "290:\tlearn: 0.3578441\ttotal: 911ms\tremaining: 2.22s\n",
      "291:\tlearn: 0.3575121\ttotal: 913ms\tremaining: 2.21s\n",
      "292:\tlearn: 0.3571979\ttotal: 915ms\tremaining: 2.21s\n",
      "293:\tlearn: 0.3568777\ttotal: 918ms\tremaining: 2.2s\n",
      "294:\tlearn: 0.3566476\ttotal: 921ms\tremaining: 2.2s\n",
      "295:\tlearn: 0.3563706\ttotal: 923ms\tremaining: 2.19s\n",
      "296:\tlearn: 0.3561007\ttotal: 926ms\tremaining: 2.19s\n",
      "297:\tlearn: 0.3560077\ttotal: 927ms\tremaining: 2.18s\n",
      "298:\tlearn: 0.3557406\ttotal: 930ms\tremaining: 2.18s\n",
      "299:\tlearn: 0.3554320\ttotal: 932ms\tremaining: 2.17s\n",
      "300:\tlearn: 0.3552407\ttotal: 935ms\tremaining: 2.17s\n",
      "301:\tlearn: 0.3550439\ttotal: 938ms\tremaining: 2.17s\n",
      "302:\tlearn: 0.3545069\ttotal: 942ms\tremaining: 2.17s\n",
      "303:\tlearn: 0.3542982\ttotal: 946ms\tremaining: 2.17s\n",
      "304:\tlearn: 0.3538975\ttotal: 950ms\tremaining: 2.17s\n",
      "305:\tlearn: 0.3536545\ttotal: 957ms\tremaining: 2.17s\n",
      "306:\tlearn: 0.3531638\ttotal: 960ms\tremaining: 2.17s\n",
      "307:\tlearn: 0.3527822\ttotal: 964ms\tremaining: 2.16s\n",
      "308:\tlearn: 0.3524969\ttotal: 967ms\tremaining: 2.16s\n",
      "309:\tlearn: 0.3521396\ttotal: 970ms\tremaining: 2.16s\n",
      "310:\tlearn: 0.3517856\ttotal: 974ms\tremaining: 2.16s\n",
      "311:\tlearn: 0.3517302\ttotal: 977ms\tremaining: 2.15s\n",
      "312:\tlearn: 0.3515017\ttotal: 981ms\tremaining: 2.15s\n",
      "313:\tlearn: 0.3511436\ttotal: 985ms\tremaining: 2.15s\n",
      "314:\tlearn: 0.3506903\ttotal: 988ms\tremaining: 2.15s\n",
      "315:\tlearn: 0.3504791\ttotal: 993ms\tremaining: 2.15s\n",
      "316:\tlearn: 0.3502671\ttotal: 997ms\tremaining: 2.15s\n",
      "317:\tlearn: 0.3499230\ttotal: 1s\tremaining: 2.15s\n",
      "318:\tlearn: 0.3496624\ttotal: 1.01s\tremaining: 2.16s\n",
      "319:\tlearn: 0.3494725\ttotal: 1.02s\tremaining: 2.17s\n",
      "320:\tlearn: 0.3492097\ttotal: 1.03s\tremaining: 2.17s\n",
      "321:\tlearn: 0.3489501\ttotal: 1.03s\tremaining: 2.17s\n",
      "322:\tlearn: 0.3487444\ttotal: 1.03s\tremaining: 2.17s\n",
      "323:\tlearn: 0.3483983\ttotal: 1.04s\tremaining: 2.17s\n",
      "324:\tlearn: 0.3479919\ttotal: 1.04s\tremaining: 2.16s\n",
      "325:\tlearn: 0.3477390\ttotal: 1.04s\tremaining: 2.16s\n",
      "326:\tlearn: 0.3475837\ttotal: 1.05s\tremaining: 2.16s\n",
      "327:\tlearn: 0.3471275\ttotal: 1.05s\tremaining: 2.15s\n",
      "328:\tlearn: 0.3467533\ttotal: 1.05s\tremaining: 2.15s\n",
      "329:\tlearn: 0.3465580\ttotal: 1.06s\tremaining: 2.15s\n",
      "330:\tlearn: 0.3462469\ttotal: 1.06s\tremaining: 2.14s\n",
      "331:\tlearn: 0.3459507\ttotal: 1.06s\tremaining: 2.14s\n",
      "332:\tlearn: 0.3457207\ttotal: 1.07s\tremaining: 2.14s\n",
      "333:\tlearn: 0.3455061\ttotal: 1.07s\tremaining: 2.14s\n",
      "334:\tlearn: 0.3452338\ttotal: 1.07s\tremaining: 2.13s\n",
      "335:\tlearn: 0.3448527\ttotal: 1.08s\tremaining: 2.13s\n",
      "336:\tlearn: 0.3446467\ttotal: 1.08s\tremaining: 2.13s\n",
      "337:\tlearn: 0.3442881\ttotal: 1.08s\tremaining: 2.12s\n",
      "338:\tlearn: 0.3439821\ttotal: 1.09s\tremaining: 2.12s\n",
      "339:\tlearn: 0.3436923\ttotal: 1.09s\tremaining: 2.11s\n",
      "340:\tlearn: 0.3432485\ttotal: 1.09s\tremaining: 2.11s\n",
      "341:\tlearn: 0.3429415\ttotal: 1.09s\tremaining: 2.11s\n",
      "342:\tlearn: 0.3426945\ttotal: 1.1s\tremaining: 2.11s\n",
      "343:\tlearn: 0.3423528\ttotal: 1.11s\tremaining: 2.11s\n",
      "344:\tlearn: 0.3420381\ttotal: 1.11s\tremaining: 2.11s\n",
      "345:\tlearn: 0.3418311\ttotal: 1.11s\tremaining: 2.1s\n",
      "346:\tlearn: 0.3416895\ttotal: 1.12s\tremaining: 2.1s\n",
      "347:\tlearn: 0.3413617\ttotal: 1.12s\tremaining: 2.1s\n",
      "348:\tlearn: 0.3411302\ttotal: 1.12s\tremaining: 2.09s\n",
      "349:\tlearn: 0.3405925\ttotal: 1.12s\tremaining: 2.09s\n",
      "350:\tlearn: 0.3403271\ttotal: 1.13s\tremaining: 2.08s\n",
      "351:\tlearn: 0.3399614\ttotal: 1.13s\tremaining: 2.08s\n",
      "352:\tlearn: 0.3393881\ttotal: 1.13s\tremaining: 2.08s\n",
      "353:\tlearn: 0.3390423\ttotal: 1.14s\tremaining: 2.07s\n",
      "354:\tlearn: 0.3387369\ttotal: 1.14s\tremaining: 2.07s\n"
     ]
    },
    {
     "name": "stdout",
     "output_type": "stream",
     "text": [
      "355:\tlearn: 0.3384780\ttotal: 1.15s\tremaining: 2.07s\n",
      "356:\tlearn: 0.3381264\ttotal: 1.15s\tremaining: 2.07s\n",
      "357:\tlearn: 0.3378094\ttotal: 1.15s\tremaining: 2.06s\n",
      "358:\tlearn: 0.3377023\ttotal: 1.16s\tremaining: 2.06s\n",
      "359:\tlearn: 0.3374534\ttotal: 1.16s\tremaining: 2.06s\n",
      "360:\tlearn: 0.3373484\ttotal: 1.16s\tremaining: 2.06s\n",
      "361:\tlearn: 0.3371471\ttotal: 1.16s\tremaining: 2.05s\n",
      "362:\tlearn: 0.3366262\ttotal: 1.17s\tremaining: 2.05s\n",
      "363:\tlearn: 0.3362891\ttotal: 1.17s\tremaining: 2.04s\n",
      "364:\tlearn: 0.3359019\ttotal: 1.17s\tremaining: 2.04s\n",
      "365:\tlearn: 0.3357209\ttotal: 1.18s\tremaining: 2.04s\n",
      "366:\tlearn: 0.3354526\ttotal: 1.18s\tremaining: 2.03s\n",
      "367:\tlearn: 0.3352648\ttotal: 1.18s\tremaining: 2.03s\n",
      "368:\tlearn: 0.3349461\ttotal: 1.18s\tremaining: 2.02s\n",
      "369:\tlearn: 0.3345867\ttotal: 1.19s\tremaining: 2.02s\n",
      "370:\tlearn: 0.3343456\ttotal: 1.19s\tremaining: 2.02s\n",
      "371:\tlearn: 0.3339632\ttotal: 1.19s\tremaining: 2.01s\n",
      "372:\tlearn: 0.3337789\ttotal: 1.2s\tremaining: 2.01s\n",
      "373:\tlearn: 0.3336134\ttotal: 1.2s\tremaining: 2s\n",
      "374:\tlearn: 0.3335516\ttotal: 1.2s\tremaining: 2s\n",
      "375:\tlearn: 0.3333449\ttotal: 1.2s\tremaining: 2s\n",
      "376:\tlearn: 0.3330668\ttotal: 1.21s\tremaining: 1.99s\n",
      "377:\tlearn: 0.3328378\ttotal: 1.21s\tremaining: 1.99s\n",
      "378:\tlearn: 0.3326268\ttotal: 1.21s\tremaining: 1.99s\n",
      "379:\tlearn: 0.3322210\ttotal: 1.21s\tremaining: 1.98s\n",
      "380:\tlearn: 0.3321647\ttotal: 1.22s\tremaining: 1.98s\n",
      "381:\tlearn: 0.3319535\ttotal: 1.22s\tremaining: 1.97s\n",
      "382:\tlearn: 0.3317788\ttotal: 1.22s\tremaining: 1.97s\n",
      "383:\tlearn: 0.3314809\ttotal: 1.22s\tremaining: 1.96s\n",
      "384:\tlearn: 0.3312707\ttotal: 1.23s\tremaining: 1.96s\n",
      "385:\tlearn: 0.3312230\ttotal: 1.23s\tremaining: 1.96s\n",
      "386:\tlearn: 0.3310030\ttotal: 1.23s\tremaining: 1.95s\n",
      "387:\tlearn: 0.3306755\ttotal: 1.23s\tremaining: 1.95s\n",
      "388:\tlearn: 0.3305131\ttotal: 1.24s\tremaining: 1.94s\n",
      "389:\tlearn: 0.3301988\ttotal: 1.24s\tremaining: 1.94s\n",
      "390:\tlearn: 0.3300609\ttotal: 1.24s\tremaining: 1.93s\n",
      "391:\tlearn: 0.3298190\ttotal: 1.25s\tremaining: 1.93s\n",
      "392:\tlearn: 0.3295979\ttotal: 1.25s\tremaining: 1.93s\n",
      "393:\tlearn: 0.3292736\ttotal: 1.25s\tremaining: 1.92s\n",
      "394:\tlearn: 0.3290624\ttotal: 1.25s\tremaining: 1.92s\n",
      "395:\tlearn: 0.3287341\ttotal: 1.25s\tremaining: 1.92s\n",
      "396:\tlearn: 0.3285557\ttotal: 1.26s\tremaining: 1.91s\n",
      "397:\tlearn: 0.3282658\ttotal: 1.26s\tremaining: 1.91s\n",
      "398:\tlearn: 0.3282212\ttotal: 1.26s\tremaining: 1.9s\n",
      "399:\tlearn: 0.3279256\ttotal: 1.26s\tremaining: 1.9s\n",
      "400:\tlearn: 0.3276878\ttotal: 1.27s\tremaining: 1.89s\n",
      "401:\tlearn: 0.3275856\ttotal: 1.27s\tremaining: 1.89s\n",
      "402:\tlearn: 0.3273460\ttotal: 1.27s\tremaining: 1.89s\n",
      "403:\tlearn: 0.3270095\ttotal: 1.27s\tremaining: 1.88s\n",
      "404:\tlearn: 0.3268441\ttotal: 1.28s\tremaining: 1.88s\n",
      "405:\tlearn: 0.3265842\ttotal: 1.28s\tremaining: 1.87s\n",
      "406:\tlearn: 0.3264300\ttotal: 1.28s\tremaining: 1.87s\n",
      "407:\tlearn: 0.3261852\ttotal: 1.29s\tremaining: 1.87s\n",
      "408:\tlearn: 0.3259371\ttotal: 1.29s\tremaining: 1.86s\n",
      "409:\tlearn: 0.3256132\ttotal: 1.29s\tremaining: 1.86s\n",
      "410:\tlearn: 0.3255092\ttotal: 1.3s\tremaining: 1.86s\n",
      "411:\tlearn: 0.3252963\ttotal: 1.3s\tremaining: 1.85s\n",
      "412:\tlearn: 0.3250711\ttotal: 1.3s\tremaining: 1.85s\n",
      "413:\tlearn: 0.3246522\ttotal: 1.3s\tremaining: 1.85s\n",
      "414:\tlearn: 0.3243843\ttotal: 1.31s\tremaining: 1.84s\n",
      "415:\tlearn: 0.3240883\ttotal: 1.31s\tremaining: 1.84s\n",
      "416:\tlearn: 0.3238036\ttotal: 1.31s\tremaining: 1.83s\n",
      "417:\tlearn: 0.3235294\ttotal: 1.31s\tremaining: 1.83s\n",
      "418:\tlearn: 0.3231230\ttotal: 1.32s\tremaining: 1.83s\n",
      "419:\tlearn: 0.3229619\ttotal: 1.32s\tremaining: 1.82s\n",
      "420:\tlearn: 0.3228215\ttotal: 1.32s\tremaining: 1.82s\n",
      "421:\tlearn: 0.3225022\ttotal: 1.33s\tremaining: 1.82s\n",
      "422:\tlearn: 0.3222101\ttotal: 1.33s\tremaining: 1.81s\n",
      "423:\tlearn: 0.3217979\ttotal: 1.33s\tremaining: 1.81s\n",
      "424:\tlearn: 0.3217270\ttotal: 1.33s\tremaining: 1.8s\n",
      "425:\tlearn: 0.3215322\ttotal: 1.34s\tremaining: 1.8s\n",
      "426:\tlearn: 0.3212256\ttotal: 1.34s\tremaining: 1.8s\n",
      "427:\tlearn: 0.3210806\ttotal: 1.34s\tremaining: 1.79s\n",
      "428:\tlearn: 0.3207785\ttotal: 1.34s\tremaining: 1.79s\n",
      "429:\tlearn: 0.3205575\ttotal: 1.35s\tremaining: 1.79s\n",
      "430:\tlearn: 0.3203960\ttotal: 1.35s\tremaining: 1.78s\n",
      "431:\tlearn: 0.3203454\ttotal: 1.35s\tremaining: 1.78s\n",
      "432:\tlearn: 0.3201690\ttotal: 1.35s\tremaining: 1.77s\n",
      "433:\tlearn: 0.3199703\ttotal: 1.36s\tremaining: 1.77s\n",
      "434:\tlearn: 0.3196253\ttotal: 1.36s\tremaining: 1.77s\n",
      "435:\tlearn: 0.3195388\ttotal: 1.36s\tremaining: 1.76s\n",
      "436:\tlearn: 0.3193824\ttotal: 1.37s\tremaining: 1.76s\n",
      "437:\tlearn: 0.3190664\ttotal: 1.37s\tremaining: 1.76s\n",
      "438:\tlearn: 0.3187215\ttotal: 1.37s\tremaining: 1.75s\n",
      "439:\tlearn: 0.3185300\ttotal: 1.38s\tremaining: 1.75s\n",
      "440:\tlearn: 0.3184102\ttotal: 1.38s\tremaining: 1.75s\n",
      "441:\tlearn: 0.3179430\ttotal: 1.38s\tremaining: 1.74s\n",
      "442:\tlearn: 0.3177039\ttotal: 1.38s\tremaining: 1.74s\n",
      "443:\tlearn: 0.3173240\ttotal: 1.39s\tremaining: 1.73s\n",
      "444:\tlearn: 0.3172405\ttotal: 1.39s\tremaining: 1.73s\n",
      "445:\tlearn: 0.3171127\ttotal: 1.39s\tremaining: 1.73s\n",
      "446:\tlearn: 0.3168823\ttotal: 1.39s\tremaining: 1.72s\n",
      "447:\tlearn: 0.3166025\ttotal: 1.39s\tremaining: 1.72s\n",
      "448:\tlearn: 0.3164608\ttotal: 1.4s\tremaining: 1.71s\n",
      "449:\tlearn: 0.3162009\ttotal: 1.4s\tremaining: 1.71s\n",
      "450:\tlearn: 0.3159533\ttotal: 1.4s\tremaining: 1.71s\n",
      "451:\tlearn: 0.3157187\ttotal: 1.41s\tremaining: 1.7s\n",
      "452:\tlearn: 0.3153083\ttotal: 1.41s\tremaining: 1.7s\n",
      "453:\tlearn: 0.3152407\ttotal: 1.41s\tremaining: 1.7s\n",
      "454:\tlearn: 0.3149947\ttotal: 1.41s\tremaining: 1.69s\n",
      "455:\tlearn: 0.3148064\ttotal: 1.42s\tremaining: 1.69s\n",
      "456:\tlearn: 0.3145192\ttotal: 1.42s\tremaining: 1.69s\n",
      "457:\tlearn: 0.3142988\ttotal: 1.42s\tremaining: 1.68s\n",
      "458:\tlearn: 0.3142255\ttotal: 1.43s\tremaining: 1.68s\n",
      "459:\tlearn: 0.3139528\ttotal: 1.43s\tremaining: 1.68s\n",
      "460:\tlearn: 0.3135961\ttotal: 1.43s\tremaining: 1.67s\n",
      "461:\tlearn: 0.3133446\ttotal: 1.43s\tremaining: 1.67s\n",
      "462:\tlearn: 0.3130183\ttotal: 1.44s\tremaining: 1.67s\n",
      "463:\tlearn: 0.3127303\ttotal: 1.44s\tremaining: 1.67s\n",
      "464:\tlearn: 0.3123132\ttotal: 1.44s\tremaining: 1.66s\n",
      "465:\tlearn: 0.3121309\ttotal: 1.45s\tremaining: 1.66s\n",
      "466:\tlearn: 0.3119877\ttotal: 1.45s\tremaining: 1.66s\n",
      "467:\tlearn: 0.3115313\ttotal: 1.46s\tremaining: 1.65s\n",
      "468:\tlearn: 0.3114014\ttotal: 1.46s\tremaining: 1.65s\n",
      "469:\tlearn: 0.3109586\ttotal: 1.46s\tremaining: 1.65s\n",
      "470:\tlearn: 0.3107847\ttotal: 1.46s\tremaining: 1.65s\n",
      "471:\tlearn: 0.3104890\ttotal: 1.47s\tremaining: 1.64s\n",
      "472:\tlearn: 0.3103117\ttotal: 1.47s\tremaining: 1.64s\n",
      "473:\tlearn: 0.3100840\ttotal: 1.47s\tremaining: 1.64s\n",
      "474:\tlearn: 0.3099016\ttotal: 1.48s\tremaining: 1.63s\n",
      "475:\tlearn: 0.3098020\ttotal: 1.48s\tremaining: 1.63s\n",
      "476:\tlearn: 0.3095660\ttotal: 1.48s\tremaining: 1.63s\n",
      "477:\tlearn: 0.3093269\ttotal: 1.49s\tremaining: 1.62s\n",
      "478:\tlearn: 0.3091577\ttotal: 1.49s\tremaining: 1.62s\n",
      "479:\tlearn: 0.3089269\ttotal: 1.49s\tremaining: 1.62s\n",
      "480:\tlearn: 0.3088283\ttotal: 1.5s\tremaining: 1.61s\n",
      "481:\tlearn: 0.3087041\ttotal: 1.5s\tremaining: 1.61s\n",
      "482:\tlearn: 0.3086443\ttotal: 1.5s\tremaining: 1.61s\n",
      "483:\tlearn: 0.3082719\ttotal: 1.5s\tremaining: 1.6s\n",
      "484:\tlearn: 0.3080623\ttotal: 1.51s\tremaining: 1.6s\n",
      "485:\tlearn: 0.3077523\ttotal: 1.51s\tremaining: 1.6s\n",
      "486:\tlearn: 0.3073644\ttotal: 1.51s\tremaining: 1.6s\n",
      "487:\tlearn: 0.3070485\ttotal: 1.52s\tremaining: 1.59s\n",
      "488:\tlearn: 0.3067967\ttotal: 1.52s\tremaining: 1.59s\n",
      "489:\tlearn: 0.3066073\ttotal: 1.52s\tremaining: 1.59s\n",
      "490:\tlearn: 0.3064128\ttotal: 1.53s\tremaining: 1.58s\n",
      "491:\tlearn: 0.3061826\ttotal: 1.53s\tremaining: 1.58s\n",
      "492:\tlearn: 0.3060678\ttotal: 1.53s\tremaining: 1.58s\n",
      "493:\tlearn: 0.3060446\ttotal: 1.53s\tremaining: 1.57s\n",
      "494:\tlearn: 0.3058161\ttotal: 1.54s\tremaining: 1.57s\n",
      "495:\tlearn: 0.3056740\ttotal: 1.54s\tremaining: 1.56s\n",
      "496:\tlearn: 0.3055203\ttotal: 1.54s\tremaining: 1.56s\n",
      "497:\tlearn: 0.3053025\ttotal: 1.54s\tremaining: 1.56s\n",
      "498:\tlearn: 0.3051540\ttotal: 1.55s\tremaining: 1.55s\n",
      "499:\tlearn: 0.3050701\ttotal: 1.55s\tremaining: 1.55s\n",
      "500:\tlearn: 0.3048990\ttotal: 1.55s\tremaining: 1.55s\n",
      "501:\tlearn: 0.3046064\ttotal: 1.55s\tremaining: 1.54s\n",
      "502:\tlearn: 0.3043914\ttotal: 1.56s\tremaining: 1.54s\n",
      "503:\tlearn: 0.3041899\ttotal: 1.56s\tremaining: 1.54s\n",
      "504:\tlearn: 0.3039956\ttotal: 1.56s\tremaining: 1.53s\n",
      "505:\tlearn: 0.3037982\ttotal: 1.57s\tremaining: 1.53s\n",
      "506:\tlearn: 0.3035149\ttotal: 1.57s\tremaining: 1.53s\n",
      "507:\tlearn: 0.3031693\ttotal: 1.57s\tremaining: 1.52s\n",
      "508:\tlearn: 0.3029717\ttotal: 1.58s\tremaining: 1.52s\n",
      "509:\tlearn: 0.3026780\ttotal: 1.58s\tremaining: 1.52s\n",
      "510:\tlearn: 0.3026041\ttotal: 1.58s\tremaining: 1.51s\n",
      "511:\tlearn: 0.3021618\ttotal: 1.58s\tremaining: 1.51s\n",
      "512:\tlearn: 0.3018905\ttotal: 1.59s\tremaining: 1.51s\n",
      "513:\tlearn: 0.3017010\ttotal: 1.59s\tremaining: 1.5s\n",
      "514:\tlearn: 0.3014183\ttotal: 1.59s\tremaining: 1.5s\n",
      "515:\tlearn: 0.3012040\ttotal: 1.6s\tremaining: 1.5s\n",
      "516:\tlearn: 0.3009901\ttotal: 1.6s\tremaining: 1.49s\n",
      "517:\tlearn: 0.3007738\ttotal: 1.6s\tremaining: 1.49s\n",
      "518:\tlearn: 0.3005208\ttotal: 1.6s\tremaining: 1.49s\n"
     ]
    },
    {
     "name": "stdout",
     "output_type": "stream",
     "text": [
      "519:\tlearn: 0.3002672\ttotal: 1.61s\tremaining: 1.48s\n",
      "520:\tlearn: 0.3000340\ttotal: 1.61s\tremaining: 1.48s\n",
      "521:\tlearn: 0.2998856\ttotal: 1.61s\tremaining: 1.48s\n",
      "522:\tlearn: 0.2997476\ttotal: 1.62s\tremaining: 1.47s\n",
      "523:\tlearn: 0.2995244\ttotal: 1.62s\tremaining: 1.47s\n",
      "524:\tlearn: 0.2993440\ttotal: 1.62s\tremaining: 1.47s\n",
      "525:\tlearn: 0.2991375\ttotal: 1.62s\tremaining: 1.46s\n",
      "526:\tlearn: 0.2988548\ttotal: 1.63s\tremaining: 1.46s\n",
      "527:\tlearn: 0.2986327\ttotal: 1.63s\tremaining: 1.46s\n",
      "528:\tlearn: 0.2982868\ttotal: 1.63s\tremaining: 1.45s\n",
      "529:\tlearn: 0.2981967\ttotal: 1.63s\tremaining: 1.45s\n",
      "530:\tlearn: 0.2980942\ttotal: 1.64s\tremaining: 1.45s\n",
      "531:\tlearn: 0.2978943\ttotal: 1.64s\tremaining: 1.44s\n",
      "532:\tlearn: 0.2977185\ttotal: 1.64s\tremaining: 1.44s\n",
      "533:\tlearn: 0.2975541\ttotal: 1.64s\tremaining: 1.43s\n",
      "534:\tlearn: 0.2973289\ttotal: 1.65s\tremaining: 1.43s\n",
      "535:\tlearn: 0.2972547\ttotal: 1.65s\tremaining: 1.43s\n",
      "536:\tlearn: 0.2971563\ttotal: 1.65s\tremaining: 1.42s\n",
      "537:\tlearn: 0.2968558\ttotal: 1.65s\tremaining: 1.42s\n",
      "538:\tlearn: 0.2964606\ttotal: 1.66s\tremaining: 1.42s\n",
      "539:\tlearn: 0.2962088\ttotal: 1.66s\tremaining: 1.41s\n",
      "540:\tlearn: 0.2959154\ttotal: 1.66s\tremaining: 1.41s\n",
      "541:\tlearn: 0.2956650\ttotal: 1.66s\tremaining: 1.41s\n",
      "542:\tlearn: 0.2953952\ttotal: 1.67s\tremaining: 1.4s\n",
      "543:\tlearn: 0.2951411\ttotal: 1.67s\tremaining: 1.4s\n",
      "544:\tlearn: 0.2948945\ttotal: 1.67s\tremaining: 1.4s\n",
      "545:\tlearn: 0.2947400\ttotal: 1.67s\tremaining: 1.39s\n",
      "546:\tlearn: 0.2945800\ttotal: 1.68s\tremaining: 1.39s\n",
      "547:\tlearn: 0.2943868\ttotal: 1.68s\tremaining: 1.39s\n",
      "548:\tlearn: 0.2942164\ttotal: 1.68s\tremaining: 1.38s\n",
      "549:\tlearn: 0.2939029\ttotal: 1.68s\tremaining: 1.38s\n",
      "550:\tlearn: 0.2936999\ttotal: 1.69s\tremaining: 1.37s\n",
      "551:\tlearn: 0.2934721\ttotal: 1.69s\tremaining: 1.37s\n",
      "552:\tlearn: 0.2933545\ttotal: 1.69s\tremaining: 1.37s\n",
      "553:\tlearn: 0.2931579\ttotal: 1.69s\tremaining: 1.36s\n",
      "554:\tlearn: 0.2928340\ttotal: 1.7s\tremaining: 1.36s\n",
      "555:\tlearn: 0.2926362\ttotal: 1.7s\tremaining: 1.36s\n",
      "556:\tlearn: 0.2922880\ttotal: 1.7s\tremaining: 1.35s\n",
      "557:\tlearn: 0.2921449\ttotal: 1.7s\tremaining: 1.35s\n",
      "558:\tlearn: 0.2919301\ttotal: 1.71s\tremaining: 1.35s\n",
      "559:\tlearn: 0.2918299\ttotal: 1.71s\tremaining: 1.34s\n",
      "560:\tlearn: 0.2915968\ttotal: 1.71s\tremaining: 1.34s\n",
      "561:\tlearn: 0.2914254\ttotal: 1.72s\tremaining: 1.34s\n",
      "562:\tlearn: 0.2912258\ttotal: 1.72s\tremaining: 1.33s\n",
      "563:\tlearn: 0.2909219\ttotal: 1.72s\tremaining: 1.33s\n",
      "564:\tlearn: 0.2907386\ttotal: 1.72s\tremaining: 1.33s\n",
      "565:\tlearn: 0.2904213\ttotal: 1.73s\tremaining: 1.32s\n",
      "566:\tlearn: 0.2901531\ttotal: 1.73s\tremaining: 1.32s\n",
      "567:\tlearn: 0.2900417\ttotal: 1.73s\tremaining: 1.32s\n",
      "568:\tlearn: 0.2897741\ttotal: 1.73s\tremaining: 1.31s\n",
      "569:\tlearn: 0.2895625\ttotal: 1.74s\tremaining: 1.31s\n",
      "570:\tlearn: 0.2893854\ttotal: 1.74s\tremaining: 1.31s\n",
      "571:\tlearn: 0.2891052\ttotal: 1.74s\tremaining: 1.3s\n",
      "572:\tlearn: 0.2888068\ttotal: 1.74s\tremaining: 1.3s\n",
      "573:\tlearn: 0.2885092\ttotal: 1.75s\tremaining: 1.29s\n",
      "574:\tlearn: 0.2882751\ttotal: 1.75s\tremaining: 1.29s\n",
      "575:\tlearn: 0.2880241\ttotal: 1.75s\tremaining: 1.29s\n",
      "576:\tlearn: 0.2877312\ttotal: 1.75s\tremaining: 1.28s\n",
      "577:\tlearn: 0.2874471\ttotal: 1.75s\tremaining: 1.28s\n",
      "578:\tlearn: 0.2871815\ttotal: 1.76s\tremaining: 1.28s\n",
      "579:\tlearn: 0.2869491\ttotal: 1.76s\tremaining: 1.27s\n",
      "580:\tlearn: 0.2865611\ttotal: 1.76s\tremaining: 1.27s\n",
      "581:\tlearn: 0.2864645\ttotal: 1.76s\tremaining: 1.27s\n",
      "582:\tlearn: 0.2861938\ttotal: 1.77s\tremaining: 1.26s\n",
      "583:\tlearn: 0.2860396\ttotal: 1.77s\tremaining: 1.26s\n",
      "584:\tlearn: 0.2858753\ttotal: 1.77s\tremaining: 1.26s\n",
      "585:\tlearn: 0.2856934\ttotal: 1.77s\tremaining: 1.25s\n",
      "586:\tlearn: 0.2855877\ttotal: 1.78s\tremaining: 1.25s\n",
      "587:\tlearn: 0.2853678\ttotal: 1.78s\tremaining: 1.25s\n",
      "588:\tlearn: 0.2851605\ttotal: 1.78s\tremaining: 1.24s\n",
      "589:\tlearn: 0.2848983\ttotal: 1.79s\tremaining: 1.24s\n",
      "590:\tlearn: 0.2847495\ttotal: 1.79s\tremaining: 1.24s\n",
      "591:\tlearn: 0.2845953\ttotal: 1.79s\tremaining: 1.23s\n",
      "592:\tlearn: 0.2842765\ttotal: 1.79s\tremaining: 1.23s\n",
      "593:\tlearn: 0.2839827\ttotal: 1.8s\tremaining: 1.23s\n",
      "594:\tlearn: 0.2837573\ttotal: 1.8s\tremaining: 1.22s\n",
      "595:\tlearn: 0.2835271\ttotal: 1.8s\tremaining: 1.22s\n",
      "596:\tlearn: 0.2834163\ttotal: 1.8s\tremaining: 1.22s\n",
      "597:\tlearn: 0.2833125\ttotal: 1.81s\tremaining: 1.21s\n",
      "598:\tlearn: 0.2830872\ttotal: 1.81s\tremaining: 1.21s\n",
      "599:\tlearn: 0.2828260\ttotal: 1.81s\tremaining: 1.21s\n",
      "600:\tlearn: 0.2826241\ttotal: 1.81s\tremaining: 1.2s\n",
      "601:\tlearn: 0.2824141\ttotal: 1.82s\tremaining: 1.2s\n",
      "602:\tlearn: 0.2822070\ttotal: 1.82s\tremaining: 1.2s\n",
      "603:\tlearn: 0.2820421\ttotal: 1.82s\tremaining: 1.19s\n",
      "604:\tlearn: 0.2818590\ttotal: 1.82s\tremaining: 1.19s\n",
      "605:\tlearn: 0.2816597\ttotal: 1.83s\tremaining: 1.19s\n",
      "606:\tlearn: 0.2814742\ttotal: 1.83s\tremaining: 1.18s\n",
      "607:\tlearn: 0.2813545\ttotal: 1.83s\tremaining: 1.18s\n",
      "608:\tlearn: 0.2811890\ttotal: 1.83s\tremaining: 1.18s\n",
      "609:\tlearn: 0.2809885\ttotal: 1.84s\tremaining: 1.17s\n",
      "610:\tlearn: 0.2808255\ttotal: 1.84s\tremaining: 1.17s\n",
      "611:\tlearn: 0.2805628\ttotal: 1.84s\tremaining: 1.17s\n",
      "612:\tlearn: 0.2802830\ttotal: 1.84s\tremaining: 1.16s\n",
      "613:\tlearn: 0.2801011\ttotal: 1.84s\tremaining: 1.16s\n",
      "614:\tlearn: 0.2799080\ttotal: 1.85s\tremaining: 1.16s\n",
      "615:\tlearn: 0.2797988\ttotal: 1.85s\tremaining: 1.15s\n",
      "616:\tlearn: 0.2795830\ttotal: 1.85s\tremaining: 1.15s\n",
      "617:\tlearn: 0.2793562\ttotal: 1.85s\tremaining: 1.15s\n",
      "618:\tlearn: 0.2791731\ttotal: 1.86s\tremaining: 1.14s\n",
      "619:\tlearn: 0.2790256\ttotal: 1.86s\tremaining: 1.14s\n",
      "620:\tlearn: 0.2787833\ttotal: 1.86s\tremaining: 1.14s\n",
      "621:\tlearn: 0.2786217\ttotal: 1.86s\tremaining: 1.13s\n",
      "622:\tlearn: 0.2785171\ttotal: 1.87s\tremaining: 1.13s\n",
      "623:\tlearn: 0.2782780\ttotal: 1.87s\tremaining: 1.13s\n",
      "624:\tlearn: 0.2781540\ttotal: 1.87s\tremaining: 1.12s\n",
      "625:\tlearn: 0.2780224\ttotal: 1.88s\tremaining: 1.12s\n",
      "626:\tlearn: 0.2779339\ttotal: 1.88s\tremaining: 1.12s\n",
      "627:\tlearn: 0.2776889\ttotal: 1.88s\tremaining: 1.11s\n",
      "628:\tlearn: 0.2776335\ttotal: 1.88s\tremaining: 1.11s\n",
      "629:\tlearn: 0.2774579\ttotal: 1.89s\tremaining: 1.11s\n",
      "630:\tlearn: 0.2772017\ttotal: 1.89s\tremaining: 1.1s\n",
      "631:\tlearn: 0.2769488\ttotal: 1.89s\tremaining: 1.1s\n",
      "632:\tlearn: 0.2767572\ttotal: 1.89s\tremaining: 1.1s\n",
      "633:\tlearn: 0.2766358\ttotal: 1.9s\tremaining: 1.09s\n",
      "634:\tlearn: 0.2763389\ttotal: 1.9s\tremaining: 1.09s\n",
      "635:\tlearn: 0.2759903\ttotal: 1.9s\tremaining: 1.09s\n",
      "636:\tlearn: 0.2759735\ttotal: 1.9s\tremaining: 1.08s\n",
      "637:\tlearn: 0.2757193\ttotal: 1.91s\tremaining: 1.08s\n",
      "638:\tlearn: 0.2754367\ttotal: 1.91s\tremaining: 1.08s\n",
      "639:\tlearn: 0.2752887\ttotal: 1.91s\tremaining: 1.07s\n",
      "640:\tlearn: 0.2750660\ttotal: 1.91s\tremaining: 1.07s\n",
      "641:\tlearn: 0.2749701\ttotal: 1.92s\tremaining: 1.07s\n",
      "642:\tlearn: 0.2748819\ttotal: 1.92s\tremaining: 1.06s\n",
      "643:\tlearn: 0.2747818\ttotal: 1.92s\tremaining: 1.06s\n",
      "644:\tlearn: 0.2745808\ttotal: 1.92s\tremaining: 1.06s\n",
      "645:\tlearn: 0.2744200\ttotal: 1.93s\tremaining: 1.05s\n",
      "646:\tlearn: 0.2741299\ttotal: 1.93s\tremaining: 1.05s\n",
      "647:\tlearn: 0.2740251\ttotal: 1.93s\tremaining: 1.05s\n",
      "648:\tlearn: 0.2737770\ttotal: 1.93s\tremaining: 1.04s\n",
      "649:\tlearn: 0.2735156\ttotal: 1.94s\tremaining: 1.04s\n",
      "650:\tlearn: 0.2732516\ttotal: 1.94s\tremaining: 1.04s\n",
      "651:\tlearn: 0.2730124\ttotal: 1.94s\tremaining: 1.03s\n",
      "652:\tlearn: 0.2728686\ttotal: 1.94s\tremaining: 1.03s\n",
      "653:\tlearn: 0.2727847\ttotal: 1.95s\tremaining: 1.03s\n",
      "654:\tlearn: 0.2726451\ttotal: 1.95s\tremaining: 1.03s\n",
      "655:\tlearn: 0.2723990\ttotal: 1.95s\tremaining: 1.02s\n",
      "656:\tlearn: 0.2721859\ttotal: 1.95s\tremaining: 1.02s\n",
      "657:\tlearn: 0.2719229\ttotal: 1.96s\tremaining: 1.02s\n",
      "658:\tlearn: 0.2716942\ttotal: 1.96s\tremaining: 1.01s\n",
      "659:\tlearn: 0.2714348\ttotal: 1.96s\tremaining: 1.01s\n",
      "660:\tlearn: 0.2712453\ttotal: 1.96s\tremaining: 1.01s\n",
      "661:\tlearn: 0.2710581\ttotal: 1.97s\tremaining: 1s\n",
      "662:\tlearn: 0.2707838\ttotal: 1.97s\tremaining: 1s\n",
      "663:\tlearn: 0.2706566\ttotal: 1.97s\tremaining: 997ms\n",
      "664:\tlearn: 0.2703755\ttotal: 1.97s\tremaining: 994ms\n",
      "665:\tlearn: 0.2703653\ttotal: 1.97s\tremaining: 990ms\n",
      "666:\tlearn: 0.2700439\ttotal: 1.98s\tremaining: 987ms\n",
      "667:\tlearn: 0.2697970\ttotal: 1.98s\tremaining: 984ms\n",
      "668:\tlearn: 0.2694930\ttotal: 1.98s\tremaining: 981ms\n",
      "669:\tlearn: 0.2692555\ttotal: 1.98s\tremaining: 978ms\n",
      "670:\tlearn: 0.2690125\ttotal: 1.99s\tremaining: 974ms\n",
      "671:\tlearn: 0.2688372\ttotal: 1.99s\tremaining: 971ms\n",
      "672:\tlearn: 0.2687303\ttotal: 1.99s\tremaining: 968ms\n",
      "673:\tlearn: 0.2685956\ttotal: 1.99s\tremaining: 965ms\n",
      "674:\tlearn: 0.2683698\ttotal: 2s\tremaining: 962ms\n",
      "675:\tlearn: 0.2682647\ttotal: 2s\tremaining: 959ms\n",
      "676:\tlearn: 0.2679453\ttotal: 2s\tremaining: 955ms\n",
      "677:\tlearn: 0.2676897\ttotal: 2s\tremaining: 952ms\n",
      "678:\tlearn: 0.2675012\ttotal: 2.01s\tremaining: 949ms\n",
      "679:\tlearn: 0.2673417\ttotal: 2.01s\tremaining: 946ms\n",
      "680:\tlearn: 0.2672321\ttotal: 2.01s\tremaining: 943ms\n",
      "681:\tlearn: 0.2670701\ttotal: 2.01s\tremaining: 939ms\n",
      "682:\tlearn: 0.2668234\ttotal: 2.02s\tremaining: 936ms\n",
      "683:\tlearn: 0.2667176\ttotal: 2.02s\tremaining: 933ms\n",
      "684:\tlearn: 0.2663974\ttotal: 2.02s\tremaining: 930ms\n",
      "685:\tlearn: 0.2662185\ttotal: 2.02s\tremaining: 927ms\n",
      "686:\tlearn: 0.2660785\ttotal: 2.03s\tremaining: 924ms\n",
      "687:\tlearn: 0.2659508\ttotal: 2.03s\tremaining: 921ms\n",
      "688:\tlearn: 0.2657915\ttotal: 2.03s\tremaining: 918ms\n",
      "689:\tlearn: 0.2656288\ttotal: 2.04s\tremaining: 915ms\n",
      "690:\tlearn: 0.2654333\ttotal: 2.04s\tremaining: 912ms\n",
      "691:\tlearn: 0.2652282\ttotal: 2.04s\tremaining: 909ms\n",
      "692:\tlearn: 0.2650493\ttotal: 2.04s\tremaining: 905ms\n",
      "693:\tlearn: 0.2647061\ttotal: 2.05s\tremaining: 902ms\n",
      "694:\tlearn: 0.2645890\ttotal: 2.05s\tremaining: 899ms\n",
      "695:\tlearn: 0.2644103\ttotal: 2.05s\tremaining: 896ms\n",
      "696:\tlearn: 0.2641676\ttotal: 2.05s\tremaining: 893ms\n",
      "697:\tlearn: 0.2640215\ttotal: 2.06s\tremaining: 890ms\n",
      "698:\tlearn: 0.2638738\ttotal: 2.06s\tremaining: 887ms\n",
      "699:\tlearn: 0.2637255\ttotal: 2.06s\tremaining: 884ms\n",
      "700:\tlearn: 0.2635392\ttotal: 2.06s\tremaining: 880ms\n",
      "701:\tlearn: 0.2634323\ttotal: 2.07s\tremaining: 877ms\n",
      "702:\tlearn: 0.2632875\ttotal: 2.07s\tremaining: 874ms\n",
      "703:\tlearn: 0.2630589\ttotal: 2.07s\tremaining: 871ms\n",
      "704:\tlearn: 0.2627522\ttotal: 2.07s\tremaining: 868ms\n",
      "705:\tlearn: 0.2626090\ttotal: 2.08s\tremaining: 865ms\n",
      "706:\tlearn: 0.2624492\ttotal: 2.08s\tremaining: 862ms\n",
      "707:\tlearn: 0.2622556\ttotal: 2.08s\tremaining: 859ms\n",
      "708:\tlearn: 0.2620451\ttotal: 2.08s\tremaining: 856ms\n"
     ]
    },
    {
     "name": "stdout",
     "output_type": "stream",
     "text": [
      "709:\tlearn: 0.2618154\ttotal: 2.09s\tremaining: 853ms\n",
      "710:\tlearn: 0.2615872\ttotal: 2.09s\tremaining: 850ms\n",
      "711:\tlearn: 0.2612835\ttotal: 2.09s\tremaining: 847ms\n",
      "712:\tlearn: 0.2610587\ttotal: 2.1s\tremaining: 844ms\n",
      "713:\tlearn: 0.2609191\ttotal: 2.1s\tremaining: 841ms\n",
      "714:\tlearn: 0.2607877\ttotal: 2.1s\tremaining: 837ms\n",
      "715:\tlearn: 0.2606183\ttotal: 2.1s\tremaining: 835ms\n",
      "716:\tlearn: 0.2602891\ttotal: 2.11s\tremaining: 832ms\n",
      "717:\tlearn: 0.2602054\ttotal: 2.11s\tremaining: 829ms\n",
      "718:\tlearn: 0.2600087\ttotal: 2.11s\tremaining: 825ms\n",
      "719:\tlearn: 0.2599374\ttotal: 2.11s\tremaining: 822ms\n",
      "720:\tlearn: 0.2597359\ttotal: 2.12s\tremaining: 819ms\n",
      "721:\tlearn: 0.2595757\ttotal: 2.12s\tremaining: 816ms\n",
      "722:\tlearn: 0.2593770\ttotal: 2.12s\tremaining: 813ms\n",
      "723:\tlearn: 0.2591209\ttotal: 2.12s\tremaining: 810ms\n",
      "724:\tlearn: 0.2588748\ttotal: 2.13s\tremaining: 807ms\n",
      "725:\tlearn: 0.2587192\ttotal: 2.13s\tremaining: 803ms\n",
      "726:\tlearn: 0.2584646\ttotal: 2.13s\tremaining: 800ms\n",
      "727:\tlearn: 0.2583764\ttotal: 2.13s\tremaining: 797ms\n",
      "728:\tlearn: 0.2581382\ttotal: 2.14s\tremaining: 794ms\n",
      "729:\tlearn: 0.2580595\ttotal: 2.14s\tremaining: 791ms\n",
      "730:\tlearn: 0.2578835\ttotal: 2.14s\tremaining: 788ms\n",
      "731:\tlearn: 0.2576846\ttotal: 2.14s\tremaining: 785ms\n",
      "732:\tlearn: 0.2573933\ttotal: 2.15s\tremaining: 782ms\n",
      "733:\tlearn: 0.2571873\ttotal: 2.15s\tremaining: 779ms\n",
      "734:\tlearn: 0.2571095\ttotal: 2.15s\tremaining: 776ms\n",
      "735:\tlearn: 0.2569593\ttotal: 2.15s\tremaining: 772ms\n",
      "736:\tlearn: 0.2568484\ttotal: 2.16s\tremaining: 769ms\n",
      "737:\tlearn: 0.2566167\ttotal: 2.16s\tremaining: 766ms\n",
      "738:\tlearn: 0.2564270\ttotal: 2.16s\tremaining: 763ms\n",
      "739:\tlearn: 0.2563174\ttotal: 2.16s\tremaining: 760ms\n",
      "740:\tlearn: 0.2560769\ttotal: 2.17s\tremaining: 757ms\n",
      "741:\tlearn: 0.2560618\ttotal: 2.17s\tremaining: 754ms\n",
      "742:\tlearn: 0.2558749\ttotal: 2.17s\tremaining: 750ms\n",
      "743:\tlearn: 0.2557209\ttotal: 2.17s\tremaining: 747ms\n",
      "744:\tlearn: 0.2556022\ttotal: 2.17s\tremaining: 744ms\n",
      "745:\tlearn: 0.2554654\ttotal: 2.18s\tremaining: 742ms\n",
      "746:\tlearn: 0.2553124\ttotal: 2.18s\tremaining: 739ms\n",
      "747:\tlearn: 0.2552167\ttotal: 2.18s\tremaining: 736ms\n",
      "748:\tlearn: 0.2550182\ttotal: 2.19s\tremaining: 732ms\n",
      "749:\tlearn: 0.2549384\ttotal: 2.19s\tremaining: 730ms\n",
      "750:\tlearn: 0.2546914\ttotal: 2.19s\tremaining: 727ms\n",
      "751:\tlearn: 0.2545952\ttotal: 2.19s\tremaining: 724ms\n",
      "752:\tlearn: 0.2544112\ttotal: 2.2s\tremaining: 721ms\n",
      "753:\tlearn: 0.2541475\ttotal: 2.2s\tremaining: 717ms\n",
      "754:\tlearn: 0.2540657\ttotal: 2.2s\tremaining: 714ms\n",
      "755:\tlearn: 0.2539255\ttotal: 2.2s\tremaining: 711ms\n",
      "756:\tlearn: 0.2537338\ttotal: 2.21s\tremaining: 708ms\n",
      "757:\tlearn: 0.2534428\ttotal: 2.21s\tremaining: 705ms\n",
      "758:\tlearn: 0.2533508\ttotal: 2.21s\tremaining: 702ms\n",
      "759:\tlearn: 0.2532994\ttotal: 2.21s\tremaining: 699ms\n",
      "760:\tlearn: 0.2531927\ttotal: 2.21s\tremaining: 696ms\n",
      "761:\tlearn: 0.2529300\ttotal: 2.22s\tremaining: 693ms\n",
      "762:\tlearn: 0.2528319\ttotal: 2.22s\tremaining: 690ms\n",
      "763:\tlearn: 0.2526671\ttotal: 2.22s\tremaining: 687ms\n",
      "764:\tlearn: 0.2525544\ttotal: 2.23s\tremaining: 684ms\n",
      "765:\tlearn: 0.2524896\ttotal: 2.23s\tremaining: 681ms\n",
      "766:\tlearn: 0.2523048\ttotal: 2.23s\tremaining: 678ms\n",
      "767:\tlearn: 0.2522260\ttotal: 2.23s\tremaining: 675ms\n",
      "768:\tlearn: 0.2518698\ttotal: 2.23s\tremaining: 671ms\n",
      "769:\tlearn: 0.2516851\ttotal: 2.24s\tremaining: 668ms\n",
      "770:\tlearn: 0.2513938\ttotal: 2.24s\tremaining: 665ms\n",
      "771:\tlearn: 0.2512179\ttotal: 2.24s\tremaining: 662ms\n",
      "772:\tlearn: 0.2510269\ttotal: 2.25s\tremaining: 659ms\n",
      "773:\tlearn: 0.2508633\ttotal: 2.25s\tremaining: 656ms\n",
      "774:\tlearn: 0.2506051\ttotal: 2.25s\tremaining: 653ms\n",
      "775:\tlearn: 0.2504308\ttotal: 2.25s\tremaining: 650ms\n",
      "776:\tlearn: 0.2502233\ttotal: 2.25s\tremaining: 647ms\n",
      "777:\tlearn: 0.2499673\ttotal: 2.26s\tremaining: 644ms\n",
      "778:\tlearn: 0.2497651\ttotal: 2.26s\tremaining: 641ms\n",
      "779:\tlearn: 0.2495304\ttotal: 2.26s\tremaining: 638ms\n",
      "780:\tlearn: 0.2494674\ttotal: 2.26s\tremaining: 635ms\n",
      "781:\tlearn: 0.2493403\ttotal: 2.27s\tremaining: 632ms\n",
      "782:\tlearn: 0.2491200\ttotal: 2.27s\tremaining: 629ms\n",
      "783:\tlearn: 0.2489028\ttotal: 2.27s\tremaining: 626ms\n",
      "784:\tlearn: 0.2487582\ttotal: 2.27s\tremaining: 623ms\n",
      "785:\tlearn: 0.2486454\ttotal: 2.28s\tremaining: 620ms\n",
      "786:\tlearn: 0.2484659\ttotal: 2.28s\tremaining: 617ms\n",
      "787:\tlearn: 0.2482273\ttotal: 2.28s\tremaining: 614ms\n",
      "788:\tlearn: 0.2480557\ttotal: 2.28s\tremaining: 611ms\n",
      "789:\tlearn: 0.2479384\ttotal: 2.29s\tremaining: 608ms\n",
      "790:\tlearn: 0.2478366\ttotal: 2.29s\tremaining: 605ms\n",
      "791:\tlearn: 0.2476822\ttotal: 2.29s\tremaining: 602ms\n",
      "792:\tlearn: 0.2473058\ttotal: 2.29s\tremaining: 599ms\n",
      "793:\tlearn: 0.2470359\ttotal: 2.3s\tremaining: 596ms\n",
      "794:\tlearn: 0.2469452\ttotal: 2.3s\tremaining: 593ms\n",
      "795:\tlearn: 0.2467106\ttotal: 2.3s\tremaining: 590ms\n",
      "796:\tlearn: 0.2465267\ttotal: 2.31s\tremaining: 587ms\n",
      "797:\tlearn: 0.2464231\ttotal: 2.31s\tremaining: 584ms\n",
      "798:\tlearn: 0.2463004\ttotal: 2.31s\tremaining: 581ms\n",
      "799:\tlearn: 0.2461647\ttotal: 2.31s\tremaining: 578ms\n",
      "800:\tlearn: 0.2459390\ttotal: 2.31s\tremaining: 575ms\n",
      "801:\tlearn: 0.2458361\ttotal: 2.32s\tremaining: 572ms\n",
      "802:\tlearn: 0.2455848\ttotal: 2.32s\tremaining: 569ms\n",
      "803:\tlearn: 0.2453587\ttotal: 2.32s\tremaining: 566ms\n",
      "804:\tlearn: 0.2451845\ttotal: 2.33s\tremaining: 563ms\n",
      "805:\tlearn: 0.2450093\ttotal: 2.33s\tremaining: 560ms\n",
      "806:\tlearn: 0.2446716\ttotal: 2.33s\tremaining: 557ms\n",
      "807:\tlearn: 0.2444495\ttotal: 2.33s\tremaining: 554ms\n",
      "808:\tlearn: 0.2442194\ttotal: 2.33s\tremaining: 551ms\n",
      "809:\tlearn: 0.2441419\ttotal: 2.34s\tremaining: 548ms\n",
      "810:\tlearn: 0.2440354\ttotal: 2.34s\tremaining: 546ms\n",
      "811:\tlearn: 0.2439052\ttotal: 2.34s\tremaining: 543ms\n",
      "812:\tlearn: 0.2437449\ttotal: 2.35s\tremaining: 540ms\n",
      "813:\tlearn: 0.2436193\ttotal: 2.35s\tremaining: 537ms\n",
      "814:\tlearn: 0.2433993\ttotal: 2.35s\tremaining: 534ms\n",
      "815:\tlearn: 0.2432072\ttotal: 2.35s\tremaining: 531ms\n",
      "816:\tlearn: 0.2428615\ttotal: 2.36s\tremaining: 528ms\n",
      "817:\tlearn: 0.2427485\ttotal: 2.36s\tremaining: 526ms\n",
      "818:\tlearn: 0.2425099\ttotal: 2.36s\tremaining: 523ms\n",
      "819:\tlearn: 0.2423344\ttotal: 2.37s\tremaining: 520ms\n",
      "820:\tlearn: 0.2420302\ttotal: 2.37s\tremaining: 517ms\n",
      "821:\tlearn: 0.2418319\ttotal: 2.37s\tremaining: 514ms\n",
      "822:\tlearn: 0.2417229\ttotal: 2.37s\tremaining: 511ms\n",
      "823:\tlearn: 0.2414138\ttotal: 2.38s\tremaining: 508ms\n",
      "824:\tlearn: 0.2412944\ttotal: 2.38s\tremaining: 505ms\n",
      "825:\tlearn: 0.2409930\ttotal: 2.38s\tremaining: 502ms\n",
      "826:\tlearn: 0.2408788\ttotal: 2.38s\tremaining: 499ms\n",
      "827:\tlearn: 0.2407461\ttotal: 2.39s\tremaining: 496ms\n",
      "828:\tlearn: 0.2405687\ttotal: 2.39s\tremaining: 493ms\n",
      "829:\tlearn: 0.2404350\ttotal: 2.39s\tremaining: 490ms\n",
      "830:\tlearn: 0.2403228\ttotal: 2.4s\tremaining: 487ms\n",
      "831:\tlearn: 0.2402719\ttotal: 2.4s\tremaining: 484ms\n",
      "832:\tlearn: 0.2401885\ttotal: 2.4s\tremaining: 481ms\n",
      "833:\tlearn: 0.2400668\ttotal: 2.4s\tremaining: 478ms\n",
      "834:\tlearn: 0.2399387\ttotal: 2.41s\tremaining: 476ms\n",
      "835:\tlearn: 0.2398092\ttotal: 2.41s\tremaining: 473ms\n",
      "836:\tlearn: 0.2394299\ttotal: 2.41s\tremaining: 470ms\n",
      "837:\tlearn: 0.2393112\ttotal: 2.41s\tremaining: 467ms\n",
      "838:\tlearn: 0.2391849\ttotal: 2.42s\tremaining: 464ms\n",
      "839:\tlearn: 0.2390904\ttotal: 2.42s\tremaining: 461ms\n",
      "840:\tlearn: 0.2389397\ttotal: 2.42s\tremaining: 458ms\n",
      "841:\tlearn: 0.2388466\ttotal: 2.42s\tremaining: 455ms\n",
      "842:\tlearn: 0.2387630\ttotal: 2.43s\tremaining: 452ms\n",
      "843:\tlearn: 0.2385246\ttotal: 2.43s\tremaining: 449ms\n",
      "844:\tlearn: 0.2383143\ttotal: 2.43s\tremaining: 446ms\n",
      "845:\tlearn: 0.2380913\ttotal: 2.44s\tremaining: 443ms\n",
      "846:\tlearn: 0.2379882\ttotal: 2.44s\tremaining: 440ms\n",
      "847:\tlearn: 0.2377836\ttotal: 2.44s\tremaining: 437ms\n",
      "848:\tlearn: 0.2377049\ttotal: 2.44s\tremaining: 434ms\n",
      "849:\tlearn: 0.2376393\ttotal: 2.44s\tremaining: 432ms\n",
      "850:\tlearn: 0.2375543\ttotal: 2.45s\tremaining: 429ms\n",
      "851:\tlearn: 0.2373900\ttotal: 2.45s\tremaining: 426ms\n",
      "852:\tlearn: 0.2370955\ttotal: 2.45s\tremaining: 423ms\n",
      "853:\tlearn: 0.2369231\ttotal: 2.46s\tremaining: 420ms\n",
      "854:\tlearn: 0.2368552\ttotal: 2.46s\tremaining: 417ms\n",
      "855:\tlearn: 0.2365621\ttotal: 2.46s\tremaining: 414ms\n",
      "856:\tlearn: 0.2363758\ttotal: 2.46s\tremaining: 411ms\n",
      "857:\tlearn: 0.2360863\ttotal: 2.46s\tremaining: 408ms\n",
      "858:\tlearn: 0.2359972\ttotal: 2.47s\tremaining: 405ms\n",
      "859:\tlearn: 0.2358761\ttotal: 2.47s\tremaining: 402ms\n",
      "860:\tlearn: 0.2356461\ttotal: 2.47s\tremaining: 399ms\n",
      "861:\tlearn: 0.2355159\ttotal: 2.48s\tremaining: 396ms\n",
      "862:\tlearn: 0.2354461\ttotal: 2.48s\tremaining: 393ms\n",
      "863:\tlearn: 0.2352136\ttotal: 2.48s\tremaining: 391ms\n",
      "864:\tlearn: 0.2350948\ttotal: 2.48s\tremaining: 388ms\n",
      "865:\tlearn: 0.2349521\ttotal: 2.49s\tremaining: 385ms\n",
      "866:\tlearn: 0.2348596\ttotal: 2.49s\tremaining: 382ms\n",
      "867:\tlearn: 0.2346481\ttotal: 2.49s\tremaining: 379ms\n",
      "868:\tlearn: 0.2344958\ttotal: 2.49s\tremaining: 376ms\n",
      "869:\tlearn: 0.2344505\ttotal: 2.5s\tremaining: 373ms\n",
      "870:\tlearn: 0.2342634\ttotal: 2.5s\tremaining: 370ms\n",
      "871:\tlearn: 0.2341440\ttotal: 2.5s\tremaining: 367ms\n",
      "872:\tlearn: 0.2339322\ttotal: 2.5s\tremaining: 364ms\n",
      "873:\tlearn: 0.2337855\ttotal: 2.51s\tremaining: 361ms\n",
      "874:\tlearn: 0.2335961\ttotal: 2.51s\tremaining: 358ms\n",
      "875:\tlearn: 0.2333589\ttotal: 2.51s\tremaining: 355ms\n",
      "876:\tlearn: 0.2332949\ttotal: 2.51s\tremaining: 353ms\n",
      "877:\tlearn: 0.2329199\ttotal: 2.52s\tremaining: 350ms\n",
      "878:\tlearn: 0.2327794\ttotal: 2.52s\tremaining: 347ms\n",
      "879:\tlearn: 0.2326422\ttotal: 2.52s\tremaining: 344ms\n",
      "880:\tlearn: 0.2324277\ttotal: 2.52s\tremaining: 341ms\n",
      "881:\tlearn: 0.2320670\ttotal: 2.53s\tremaining: 338ms\n",
      "882:\tlearn: 0.2319108\ttotal: 2.53s\tremaining: 335ms\n",
      "883:\tlearn: 0.2316776\ttotal: 2.53s\tremaining: 332ms\n",
      "884:\tlearn: 0.2315398\ttotal: 2.53s\tremaining: 329ms\n",
      "885:\tlearn: 0.2313873\ttotal: 2.54s\tremaining: 326ms\n",
      "886:\tlearn: 0.2311999\ttotal: 2.54s\tremaining: 323ms\n",
      "887:\tlearn: 0.2310950\ttotal: 2.54s\tremaining: 320ms\n",
      "888:\tlearn: 0.2310238\ttotal: 2.54s\tremaining: 318ms\n",
      "889:\tlearn: 0.2308576\ttotal: 2.55s\tremaining: 315ms\n",
      "890:\tlearn: 0.2307284\ttotal: 2.55s\tremaining: 312ms\n",
      "891:\tlearn: 0.2304171\ttotal: 2.55s\tremaining: 309ms\n",
      "892:\tlearn: 0.2301803\ttotal: 2.55s\tremaining: 306ms\n",
      "893:\tlearn: 0.2299901\ttotal: 2.56s\tremaining: 303ms\n",
      "894:\tlearn: 0.2297385\ttotal: 2.56s\tremaining: 300ms\n",
      "895:\tlearn: 0.2296528\ttotal: 2.56s\tremaining: 297ms\n",
      "896:\tlearn: 0.2293706\ttotal: 2.56s\tremaining: 294ms\n",
      "897:\tlearn: 0.2291156\ttotal: 2.57s\tremaining: 291ms\n"
     ]
    },
    {
     "name": "stdout",
     "output_type": "stream",
     "text": [
      "898:\tlearn: 0.2290499\ttotal: 2.57s\tremaining: 289ms\n",
      "899:\tlearn: 0.2289481\ttotal: 2.57s\tremaining: 286ms\n",
      "900:\tlearn: 0.2288036\ttotal: 2.57s\tremaining: 283ms\n",
      "901:\tlearn: 0.2285369\ttotal: 2.58s\tremaining: 280ms\n",
      "902:\tlearn: 0.2284307\ttotal: 2.58s\tremaining: 277ms\n",
      "903:\tlearn: 0.2283303\ttotal: 2.58s\tremaining: 274ms\n",
      "904:\tlearn: 0.2281518\ttotal: 2.58s\tremaining: 271ms\n",
      "905:\tlearn: 0.2280681\ttotal: 2.59s\tremaining: 268ms\n",
      "906:\tlearn: 0.2279222\ttotal: 2.59s\tremaining: 266ms\n",
      "907:\tlearn: 0.2276470\ttotal: 2.59s\tremaining: 263ms\n",
      "908:\tlearn: 0.2275512\ttotal: 2.6s\tremaining: 260ms\n",
      "909:\tlearn: 0.2274437\ttotal: 2.6s\tremaining: 257ms\n",
      "910:\tlearn: 0.2273596\ttotal: 2.6s\tremaining: 254ms\n",
      "911:\tlearn: 0.2272453\ttotal: 2.6s\tremaining: 251ms\n",
      "912:\tlearn: 0.2270982\ttotal: 2.61s\tremaining: 248ms\n",
      "913:\tlearn: 0.2268807\ttotal: 2.61s\tremaining: 245ms\n",
      "914:\tlearn: 0.2267710\ttotal: 2.61s\tremaining: 243ms\n",
      "915:\tlearn: 0.2265814\ttotal: 2.61s\tremaining: 240ms\n",
      "916:\tlearn: 0.2264995\ttotal: 2.62s\tremaining: 237ms\n",
      "917:\tlearn: 0.2263200\ttotal: 2.62s\tremaining: 234ms\n",
      "918:\tlearn: 0.2261015\ttotal: 2.62s\tremaining: 231ms\n",
      "919:\tlearn: 0.2260232\ttotal: 2.62s\tremaining: 228ms\n",
      "920:\tlearn: 0.2259100\ttotal: 2.63s\tremaining: 225ms\n",
      "921:\tlearn: 0.2258330\ttotal: 2.63s\tremaining: 222ms\n",
      "922:\tlearn: 0.2256698\ttotal: 2.63s\tremaining: 220ms\n",
      "923:\tlearn: 0.2253847\ttotal: 2.63s\tremaining: 217ms\n",
      "924:\tlearn: 0.2251228\ttotal: 2.64s\tremaining: 214ms\n",
      "925:\tlearn: 0.2249853\ttotal: 2.64s\tremaining: 211ms\n",
      "926:\tlearn: 0.2247971\ttotal: 2.64s\tremaining: 208ms\n",
      "927:\tlearn: 0.2245091\ttotal: 2.65s\tremaining: 205ms\n",
      "928:\tlearn: 0.2243846\ttotal: 2.65s\tremaining: 202ms\n",
      "929:\tlearn: 0.2241777\ttotal: 2.65s\tremaining: 199ms\n",
      "930:\tlearn: 0.2240452\ttotal: 2.65s\tremaining: 197ms\n",
      "931:\tlearn: 0.2237585\ttotal: 2.65s\tremaining: 194ms\n",
      "932:\tlearn: 0.2235544\ttotal: 2.66s\tremaining: 191ms\n",
      "933:\tlearn: 0.2233080\ttotal: 2.66s\tremaining: 188ms\n",
      "934:\tlearn: 0.2232029\ttotal: 2.66s\tremaining: 185ms\n",
      "935:\tlearn: 0.2230412\ttotal: 2.66s\tremaining: 182ms\n",
      "936:\tlearn: 0.2229346\ttotal: 2.67s\tremaining: 179ms\n",
      "937:\tlearn: 0.2228655\ttotal: 2.67s\tremaining: 176ms\n",
      "938:\tlearn: 0.2226469\ttotal: 2.67s\tremaining: 174ms\n",
      "939:\tlearn: 0.2225462\ttotal: 2.67s\tremaining: 171ms\n",
      "940:\tlearn: 0.2222755\ttotal: 2.68s\tremaining: 168ms\n",
      "941:\tlearn: 0.2221269\ttotal: 2.68s\tremaining: 165ms\n",
      "942:\tlearn: 0.2218321\ttotal: 2.68s\tremaining: 162ms\n",
      "943:\tlearn: 0.2217209\ttotal: 2.69s\tremaining: 159ms\n",
      "944:\tlearn: 0.2216345\ttotal: 2.69s\tremaining: 156ms\n",
      "945:\tlearn: 0.2215408\ttotal: 2.69s\tremaining: 154ms\n",
      "946:\tlearn: 0.2213237\ttotal: 2.69s\tremaining: 151ms\n",
      "947:\tlearn: 0.2211672\ttotal: 2.69s\tremaining: 148ms\n",
      "948:\tlearn: 0.2210020\ttotal: 2.7s\tremaining: 145ms\n",
      "949:\tlearn: 0.2208929\ttotal: 2.7s\tremaining: 142ms\n",
      "950:\tlearn: 0.2207869\ttotal: 2.7s\tremaining: 139ms\n",
      "951:\tlearn: 0.2205495\ttotal: 2.71s\tremaining: 136ms\n",
      "952:\tlearn: 0.2203920\ttotal: 2.71s\tremaining: 134ms\n",
      "953:\tlearn: 0.2203015\ttotal: 2.71s\tremaining: 131ms\n",
      "954:\tlearn: 0.2201694\ttotal: 2.71s\tremaining: 128ms\n",
      "955:\tlearn: 0.2200798\ttotal: 2.71s\tremaining: 125ms\n",
      "956:\tlearn: 0.2199712\ttotal: 2.72s\tremaining: 122ms\n",
      "957:\tlearn: 0.2198977\ttotal: 2.72s\tremaining: 119ms\n",
      "958:\tlearn: 0.2197213\ttotal: 2.72s\tremaining: 116ms\n",
      "959:\tlearn: 0.2196216\ttotal: 2.73s\tremaining: 114ms\n",
      "960:\tlearn: 0.2194147\ttotal: 2.73s\tremaining: 111ms\n",
      "961:\tlearn: 0.2191417\ttotal: 2.73s\tremaining: 108ms\n",
      "962:\tlearn: 0.2190686\ttotal: 2.73s\tremaining: 105ms\n",
      "963:\tlearn: 0.2189866\ttotal: 2.74s\tremaining: 102ms\n",
      "964:\tlearn: 0.2188911\ttotal: 2.74s\tremaining: 99.3ms\n",
      "965:\tlearn: 0.2188029\ttotal: 2.74s\tremaining: 96.5ms\n",
      "966:\tlearn: 0.2186164\ttotal: 2.74s\tremaining: 93.6ms\n",
      "967:\tlearn: 0.2184814\ttotal: 2.75s\tremaining: 90.8ms\n",
      "968:\tlearn: 0.2184036\ttotal: 2.75s\tremaining: 87.9ms\n",
      "969:\tlearn: 0.2182724\ttotal: 2.75s\tremaining: 85.1ms\n",
      "970:\tlearn: 0.2181580\ttotal: 2.75s\tremaining: 82.3ms\n",
      "971:\tlearn: 0.2179832\ttotal: 2.76s\tremaining: 79.4ms\n",
      "972:\tlearn: 0.2178924\ttotal: 2.76s\tremaining: 76.6ms\n",
      "973:\tlearn: 0.2177390\ttotal: 2.76s\tremaining: 73.7ms\n",
      "974:\tlearn: 0.2176707\ttotal: 2.76s\tremaining: 70.9ms\n",
      "975:\tlearn: 0.2175420\ttotal: 2.77s\tremaining: 68ms\n",
      "976:\tlearn: 0.2173360\ttotal: 2.77s\tremaining: 65.2ms\n",
      "977:\tlearn: 0.2172519\ttotal: 2.77s\tremaining: 62.4ms\n",
      "978:\tlearn: 0.2171196\ttotal: 2.77s\tremaining: 59.5ms\n",
      "979:\tlearn: 0.2169703\ttotal: 2.78s\tremaining: 56.7ms\n",
      "980:\tlearn: 0.2168082\ttotal: 2.78s\tremaining: 53.8ms\n",
      "981:\tlearn: 0.2165882\ttotal: 2.78s\tremaining: 51ms\n",
      "982:\tlearn: 0.2164202\ttotal: 2.79s\tremaining: 48.2ms\n",
      "983:\tlearn: 0.2163623\ttotal: 2.79s\tremaining: 45.3ms\n",
      "984:\tlearn: 0.2162546\ttotal: 2.79s\tremaining: 42.5ms\n",
      "985:\tlearn: 0.2162226\ttotal: 2.79s\tremaining: 39.6ms\n",
      "986:\tlearn: 0.2161519\ttotal: 2.79s\tremaining: 36.8ms\n",
      "987:\tlearn: 0.2160388\ttotal: 2.8s\tremaining: 34ms\n",
      "988:\tlearn: 0.2159181\ttotal: 2.8s\tremaining: 31.1ms\n",
      "989:\tlearn: 0.2158380\ttotal: 2.8s\tremaining: 28.3ms\n",
      "990:\tlearn: 0.2156720\ttotal: 2.8s\tremaining: 25.5ms\n",
      "991:\tlearn: 0.2155690\ttotal: 2.81s\tremaining: 22.6ms\n",
      "992:\tlearn: 0.2153255\ttotal: 2.81s\tremaining: 19.8ms\n",
      "993:\tlearn: 0.2151626\ttotal: 2.81s\tremaining: 17ms\n",
      "994:\tlearn: 0.2149914\ttotal: 2.81s\tremaining: 14.1ms\n",
      "995:\tlearn: 0.2147543\ttotal: 2.82s\tremaining: 11.3ms\n",
      "996:\tlearn: 0.2145814\ttotal: 2.82s\tremaining: 8.48ms\n",
      "997:\tlearn: 0.2145363\ttotal: 2.82s\tremaining: 5.66ms\n",
      "998:\tlearn: 0.2144418\ttotal: 2.82s\tremaining: 2.83ms\n",
      "999:\tlearn: 0.2143236\ttotal: 2.83s\tremaining: 0us\n"
     ]
    },
    {
     "data": {
      "text/plain": [
       "0.7467532467532467"
      ]
     },
     "execution_count": 51,
     "metadata": {},
     "output_type": "execute_result"
    }
   ],
   "source": [
    "from catboost import CatBoostClassifier\n",
    "\n",
    "cat = CatBoostClassifier()\n",
    "cat = cat.fit(X_train, y_train)\n",
    "test_pred = cat.predict(X_test)\n",
    "cat.score(X_test , y_test)\n"
   ]
  },
  {
   "cell_type": "code",
   "execution_count": 411,
   "metadata": {},
   "outputs": [
    {
     "ename": "NameError",
     "evalue": "name 'x_res' is not defined",
     "output_type": "error",
     "traceback": [
      "\u001b[1;31m---------------------------------------------------------------------------\u001b[0m",
      "\u001b[1;31mNameError\u001b[0m                                 Traceback (most recent call last)",
      "\u001b[1;32m<ipython-input-411-656f004c1c63>\u001b[0m in \u001b[0;36m<module>\u001b[1;34m\u001b[0m\n\u001b[0;32m      8\u001b[0m                    {'max_depth': [2, 4, 6],\n\u001b[0;32m      9\u001b[0m                     'n_estimators': [50, 100, 200]}, verbose=1)\n\u001b[1;32m---> 10\u001b[1;33m \u001b[0mclf1\u001b[0m\u001b[1;33m.\u001b[0m\u001b[0mfit\u001b[0m\u001b[1;33m(\u001b[0m\u001b[0mx_res\u001b[0m\u001b[1;33m,\u001b[0m \u001b[0my_res\u001b[0m\u001b[1;33m)\u001b[0m\u001b[1;33m\u001b[0m\u001b[1;33m\u001b[0m\u001b[0m\n\u001b[0m\u001b[0;32m     11\u001b[0m \u001b[0mprint\u001b[0m\u001b[1;33m(\u001b[0m\u001b[0mclf1\u001b[0m\u001b[1;33m.\u001b[0m\u001b[0mbest_score_\u001b[0m\u001b[1;33m)\u001b[0m\u001b[1;33m\u001b[0m\u001b[1;33m\u001b[0m\u001b[0m\n\u001b[0;32m     12\u001b[0m \u001b[0mprint\u001b[0m\u001b[1;33m(\u001b[0m\u001b[0mclf1\u001b[0m\u001b[1;33m.\u001b[0m\u001b[0mbest_params_\u001b[0m\u001b[1;33m)\u001b[0m\u001b[1;33m\u001b[0m\u001b[1;33m\u001b[0m\u001b[0m\n",
      "\u001b[1;31mNameError\u001b[0m: name 'x_res' is not defined"
     ]
    }
   ],
   "source": [
    "import pickle\n",
    "\n",
    "from sklearn.model_selection import KFold, train_test_split, GridSearchCV\n",
    "from sklearn.metrics import confusion_matrix, mean_squared_error\n",
    "\n",
    "xgb_model = xgb.XGBClassifier()\n",
    "clf1 = GridSearchCV(xgb_model,\n",
    "                   {'max_depth': [2, 4, 6],\n",
    "                    'n_estimators': [50, 100, 200]}, verbose=1)\n",
    "clf1.fit(x_res, y_res)\n",
    "print(clf1.best_score_)\n",
    "print(clf1.best_params_)"
   ]
  },
  {
   "cell_type": "code",
   "execution_count": null,
   "metadata": {},
   "outputs": [],
   "source": []
  },
  {
   "cell_type": "code",
   "execution_count": null,
   "metadata": {},
   "outputs": [],
   "source": []
  },
  {
   "cell_type": "code",
   "execution_count": null,
   "metadata": {},
   "outputs": [],
   "source": []
  },
  {
   "cell_type": "code",
   "execution_count": null,
   "metadata": {},
   "outputs": [],
   "source": []
  },
  {
   "cell_type": "code",
   "execution_count": null,
   "metadata": {},
   "outputs": [],
   "source": []
  },
  {
   "cell_type": "code",
   "execution_count": 408,
   "metadata": {},
   "outputs": [
    {
     "name": "stdout",
     "output_type": "stream",
     "text": [
      "[0.86956522 0.81521739 0.81521739 0.80434783 0.77173913]\n"
     ]
    }
   ],
   "source": [
    "#crossvalifation\n",
    "from sklearn.model_selection import cross_val_score\n",
    "scores = cross_val_score(abcl,X_train,y_train,cv=5)\n",
    "print(scores)"
   ]
  },
  {
   "cell_type": "code",
   "execution_count": 405,
   "metadata": {},
   "outputs": [
    {
     "data": {
      "text/plain": [
       "0.7532467532467533"
      ]
     },
     "execution_count": 405,
     "metadata": {},
     "output_type": "execute_result"
    }
   ],
   "source": [
    "# Using Ada boosting  Classifier\n",
    "from sklearn.ensemble import AdaBoostClassifier\n",
    "abcl = AdaBoostClassifier(n_estimators=250, random_state=1, algorithm='SAMME')\n",
    "#abcl = AdaBoostClassifier(n_estimators=50)\n",
    "abcl = abcl.fit(X_train, y_train)\n",
    "test_pred = abcl.predict(X_test)\n",
    "abcl.score(X_test , y_test)"
   ]
  },
  {
   "cell_type": "code",
   "execution_count": null,
   "metadata": {},
   "outputs": [],
   "source": []
  },
  {
   "cell_type": "code",
   "execution_count": 279,
   "metadata": {},
   "outputs": [],
   "source": [
    "import numpy as np # linear algebra\n",
    "import pandas as pd # data processing, CSV file I/O (e.g. pd.read_csv)\n",
    "import lightgbm as lgb\n",
    "from sklearn.metrics import mean_squared_error\n",
    "from sklearn.metrics import roc_auc_score\n",
    "from sklearn.model_selection import StratifiedKFold"
   ]
  },
  {
   "cell_type": "code",
   "execution_count": 280,
   "metadata": {},
   "outputs": [],
   "source": [
    "param = {\n",
    "    'bagging_freq': 5,\n",
    "    'bagging_fraction': 0.33,\n",
    "    'boost_from_average':'false',\n",
    "    'boost': 'gbdt',\n",
    "    'feature_fraction': 0.05,\n",
    "    'learning_rate': 0.01,\n",
    "    'max_depth': -1,\n",
    "    'metric':'auc',\n",
    "    'min_data_in_leaf': 6,\n",
    "    'min_sum_hessian_in_leaf': 10.0,\n",
    "    'num_leaves': 5,\n",
    "    'num_threads': 2,\n",
    "    'tree_learner': 'serial',\n",
    "    'objective': 'binary',\n",
    "    'verbosity': 1\n",
    "}"
   ]
  },
  {
   "cell_type": "code",
   "execution_count": 281,
   "metadata": {},
   "outputs": [],
   "source": [
    "features = [c for c in data2.columns if c not in ['Loan_Status']]\n",
    "target = data2['Loan_Status'][:ntrain]"
   ]
  },
  {
   "cell_type": "code",
   "execution_count": 282,
   "metadata": {},
   "outputs": [],
   "source": [
    "num_round = 1000\n",
    "# check random state 44000\n",
    "folds = StratifiedKFold(n_splits=6, shuffle=False, random_state=12345)\n",
    "oof = np.zeros(len(data2[:ntrain]))\n",
    "predictions = np.zeros(len(data2[ntrain:]))"
   ]
  },
  {
   "cell_type": "code",
   "execution_count": 283,
   "metadata": {},
   "outputs": [],
   "source": [
    "train_df=round(data2[:ntrain],1)\n",
    "test_df=round(data2[ntrain:],1)"
   ]
  },
  {
   "cell_type": "code",
   "execution_count": 284,
   "metadata": {},
   "outputs": [
    {
     "data": {
      "text/plain": [
       "((614, 108), (367, 108))"
      ]
     },
     "execution_count": 284,
     "metadata": {},
     "output_type": "execute_result"
    }
   ],
   "source": [
    "train_df.shape , test_df.shape"
   ]
  },
  {
   "cell_type": "code",
   "execution_count": 285,
   "metadata": {},
   "outputs": [],
   "source": [
    "train_df =train_df[~train_df.isin([np.nan, np.inf, -np.inf]).any(1)]"
   ]
  },
  {
   "cell_type": "code",
   "execution_count": 286,
   "metadata": {},
   "outputs": [],
   "source": [
    "test_df =test_df[~test_df.isin([np.nan, np.inf, -np.inf]).any(1)]"
   ]
  },
  {
   "cell_type": "code",
   "execution_count": 287,
   "metadata": {},
   "outputs": [],
   "source": [
    "import numpy as np # linear algebra\n",
    "import pandas as pd # data processing, CSV file I/O (e.g. pd.read_csv)\n",
    "import lightgbm as lgb\n",
    "from sklearn.metrics import mean_squared_error\n",
    "from sklearn.metrics import roc_auc_score\n",
    "from sklearn.model_selection import StratifiedKFold"
   ]
  },
  {
   "cell_type": "code",
   "execution_count": 294,
   "metadata": {},
   "outputs": [
    {
     "data": {
      "text/plain": [
       "Gender                     0\n",
       "Married                    0\n",
       "Dependents                 0\n",
       "Education                  0\n",
       "Self_Employed              0\n",
       "                          ..\n",
       "Credit_History_cnp         0\n",
       "Credit_History_sqrt        0\n",
       "exp_Credit_History         0\n",
       "xintoexp_Credit_History    0\n",
       "tanh_Credit_History        0\n",
       "Length: 108, dtype: int64"
      ]
     },
     "execution_count": 294,
     "metadata": {},
     "output_type": "execute_result"
    }
   ],
   "source": [
    "train_df.isnull().sum()"
   ]
  },
  {
   "cell_type": "code",
   "execution_count": 295,
   "metadata": {},
   "outputs": [
    {
     "ename": "ValueError",
     "evalue": "Found input variables with inconsistent numbers of samples: [0, 614]",
     "output_type": "error",
     "traceback": [
      "\u001b[1;31m---------------------------------------------------------------------------\u001b[0m",
      "\u001b[1;31mValueError\u001b[0m                                Traceback (most recent call last)",
      "\u001b[1;32m<ipython-input-295-8b7677ae79b8>\u001b[0m in \u001b[0;36m<module>\u001b[1;34m\u001b[0m\n\u001b[1;32m----> 1\u001b[1;33m \u001b[1;32mfor\u001b[0m \u001b[0mfold_\u001b[0m\u001b[1;33m,\u001b[0m \u001b[1;33m(\u001b[0m\u001b[0mtrn_idx\u001b[0m\u001b[1;33m,\u001b[0m \u001b[0mval_idx\u001b[0m\u001b[1;33m)\u001b[0m \u001b[1;32min\u001b[0m \u001b[0menumerate\u001b[0m\u001b[1;33m(\u001b[0m\u001b[0mfolds\u001b[0m\u001b[1;33m.\u001b[0m\u001b[0msplit\u001b[0m\u001b[1;33m(\u001b[0m\u001b[0mtrain_df\u001b[0m\u001b[1;33m.\u001b[0m\u001b[0mvalues\u001b[0m\u001b[1;33m,\u001b[0m \u001b[0mtarget\u001b[0m\u001b[1;33m.\u001b[0m\u001b[0mvalues\u001b[0m\u001b[1;33m)\u001b[0m\u001b[1;33m)\u001b[0m\u001b[1;33m:\u001b[0m\u001b[1;33m\u001b[0m\u001b[1;33m\u001b[0m\u001b[0m\n\u001b[0m\u001b[0;32m      2\u001b[0m     \u001b[0mprint\u001b[0m\u001b[1;33m(\u001b[0m\u001b[1;34m\"Fold {}\"\u001b[0m\u001b[1;33m.\u001b[0m\u001b[0mformat\u001b[0m\u001b[1;33m(\u001b[0m\u001b[0mfold_\u001b[0m\u001b[1;33m)\u001b[0m\u001b[1;33m)\u001b[0m\u001b[1;33m\u001b[0m\u001b[1;33m\u001b[0m\u001b[0m\n\u001b[0;32m      3\u001b[0m     \u001b[0mtrn_data\u001b[0m \u001b[1;33m=\u001b[0m \u001b[0mlgb\u001b[0m\u001b[1;33m.\u001b[0m\u001b[0mDataset\u001b[0m\u001b[1;33m(\u001b[0m\u001b[0mtrain_df\u001b[0m\u001b[1;33m.\u001b[0m\u001b[0miloc\u001b[0m\u001b[1;33m[\u001b[0m\u001b[0mtrn_idx\u001b[0m\u001b[1;33m]\u001b[0m\u001b[1;33m[\u001b[0m\u001b[0mfeatures\u001b[0m\u001b[1;33m]\u001b[0m\u001b[1;33m,\u001b[0m \u001b[0mlabel\u001b[0m\u001b[1;33m=\u001b[0m\u001b[0mtarget\u001b[0m\u001b[1;33m.\u001b[0m\u001b[0miloc\u001b[0m\u001b[1;33m[\u001b[0m\u001b[0mtrn_idx\u001b[0m\u001b[1;33m]\u001b[0m\u001b[1;33m)\u001b[0m\u001b[1;33m\u001b[0m\u001b[1;33m\u001b[0m\u001b[0m\n\u001b[0;32m      4\u001b[0m     \u001b[0mval_data\u001b[0m \u001b[1;33m=\u001b[0m \u001b[0mlgb\u001b[0m\u001b[1;33m.\u001b[0m\u001b[0mDataset\u001b[0m\u001b[1;33m(\u001b[0m\u001b[0mtrain_df\u001b[0m\u001b[1;33m.\u001b[0m\u001b[0miloc\u001b[0m\u001b[1;33m[\u001b[0m\u001b[0mval_idx\u001b[0m\u001b[1;33m]\u001b[0m\u001b[1;33m[\u001b[0m\u001b[0mfeatures\u001b[0m\u001b[1;33m]\u001b[0m\u001b[1;33m,\u001b[0m \u001b[0mlabel\u001b[0m\u001b[1;33m=\u001b[0m\u001b[0mtarget\u001b[0m\u001b[1;33m.\u001b[0m\u001b[0miloc\u001b[0m\u001b[1;33m[\u001b[0m\u001b[0mval_idx\u001b[0m\u001b[1;33m]\u001b[0m\u001b[1;33m)\u001b[0m\u001b[1;33m\u001b[0m\u001b[1;33m\u001b[0m\u001b[0m\n\u001b[0;32m      5\u001b[0m     \u001b[0mclf\u001b[0m \u001b[1;33m=\u001b[0m \u001b[0mlgb\u001b[0m\u001b[1;33m.\u001b[0m\u001b[0mtrain\u001b[0m\u001b[1;33m(\u001b[0m\u001b[0mparam\u001b[0m\u001b[1;33m,\u001b[0m \u001b[0mtrn_data\u001b[0m\u001b[1;33m,\u001b[0m \u001b[0mnum_round\u001b[0m\u001b[1;33m,\u001b[0m \u001b[0mvalid_sets\u001b[0m \u001b[1;33m=\u001b[0m \u001b[1;33m[\u001b[0m\u001b[0mtrn_data\u001b[0m\u001b[1;33m,\u001b[0m \u001b[0mval_data\u001b[0m\u001b[1;33m]\u001b[0m\u001b[1;33m,\u001b[0m \u001b[0mverbose_eval\u001b[0m\u001b[1;33m=\u001b[0m\u001b[1;36m1000\u001b[0m\u001b[1;33m,\u001b[0m \u001b[0mearly_stopping_rounds\u001b[0m \u001b[1;33m=\u001b[0m \u001b[1;36m2500\u001b[0m\u001b[1;33m)\u001b[0m\u001b[1;33m\u001b[0m\u001b[1;33m\u001b[0m\u001b[0m\n",
      "\u001b[1;32mC:\\ProgramData\\Anaconda3\\lib\\site-packages\\sklearn\\model_selection\\_split.py\u001b[0m in \u001b[0;36msplit\u001b[1;34m(self, X, y, groups)\u001b[0m\n\u001b[0;32m    326\u001b[0m             \u001b[0mThe\u001b[0m \u001b[0mtesting\u001b[0m \u001b[0mset\u001b[0m \u001b[0mindices\u001b[0m \u001b[1;32mfor\u001b[0m \u001b[0mthat\u001b[0m \u001b[0msplit\u001b[0m\u001b[1;33m.\u001b[0m\u001b[1;33m\u001b[0m\u001b[1;33m\u001b[0m\u001b[0m\n\u001b[0;32m    327\u001b[0m         \"\"\"\n\u001b[1;32m--> 328\u001b[1;33m         \u001b[0mX\u001b[0m\u001b[1;33m,\u001b[0m \u001b[0my\u001b[0m\u001b[1;33m,\u001b[0m \u001b[0mgroups\u001b[0m \u001b[1;33m=\u001b[0m \u001b[0mindexable\u001b[0m\u001b[1;33m(\u001b[0m\u001b[0mX\u001b[0m\u001b[1;33m,\u001b[0m \u001b[0my\u001b[0m\u001b[1;33m,\u001b[0m \u001b[0mgroups\u001b[0m\u001b[1;33m)\u001b[0m\u001b[1;33m\u001b[0m\u001b[1;33m\u001b[0m\u001b[0m\n\u001b[0m\u001b[0;32m    329\u001b[0m         \u001b[0mn_samples\u001b[0m \u001b[1;33m=\u001b[0m \u001b[0m_num_samples\u001b[0m\u001b[1;33m(\u001b[0m\u001b[0mX\u001b[0m\u001b[1;33m)\u001b[0m\u001b[1;33m\u001b[0m\u001b[1;33m\u001b[0m\u001b[0m\n\u001b[0;32m    330\u001b[0m         \u001b[1;32mif\u001b[0m \u001b[0mself\u001b[0m\u001b[1;33m.\u001b[0m\u001b[0mn_splits\u001b[0m \u001b[1;33m>\u001b[0m \u001b[0mn_samples\u001b[0m\u001b[1;33m:\u001b[0m\u001b[1;33m\u001b[0m\u001b[1;33m\u001b[0m\u001b[0m\n",
      "\u001b[1;32mC:\\ProgramData\\Anaconda3\\lib\\site-packages\\sklearn\\utils\\validation.py\u001b[0m in \u001b[0;36mindexable\u001b[1;34m(*iterables)\u001b[0m\n\u001b[0;32m    290\u001b[0m     \"\"\"\n\u001b[0;32m    291\u001b[0m     \u001b[0mresult\u001b[0m \u001b[1;33m=\u001b[0m \u001b[1;33m[\u001b[0m\u001b[0m_make_indexable\u001b[0m\u001b[1;33m(\u001b[0m\u001b[0mX\u001b[0m\u001b[1;33m)\u001b[0m \u001b[1;32mfor\u001b[0m \u001b[0mX\u001b[0m \u001b[1;32min\u001b[0m \u001b[0miterables\u001b[0m\u001b[1;33m]\u001b[0m\u001b[1;33m\u001b[0m\u001b[1;33m\u001b[0m\u001b[0m\n\u001b[1;32m--> 292\u001b[1;33m     \u001b[0mcheck_consistent_length\u001b[0m\u001b[1;33m(\u001b[0m\u001b[1;33m*\u001b[0m\u001b[0mresult\u001b[0m\u001b[1;33m)\u001b[0m\u001b[1;33m\u001b[0m\u001b[1;33m\u001b[0m\u001b[0m\n\u001b[0m\u001b[0;32m    293\u001b[0m     \u001b[1;32mreturn\u001b[0m \u001b[0mresult\u001b[0m\u001b[1;33m\u001b[0m\u001b[1;33m\u001b[0m\u001b[0m\n\u001b[0;32m    294\u001b[0m \u001b[1;33m\u001b[0m\u001b[0m\n",
      "\u001b[1;32mC:\\ProgramData\\Anaconda3\\lib\\site-packages\\sklearn\\utils\\validation.py\u001b[0m in \u001b[0;36mcheck_consistent_length\u001b[1;34m(*arrays)\u001b[0m\n\u001b[0;32m    253\u001b[0m     \u001b[0muniques\u001b[0m \u001b[1;33m=\u001b[0m \u001b[0mnp\u001b[0m\u001b[1;33m.\u001b[0m\u001b[0munique\u001b[0m\u001b[1;33m(\u001b[0m\u001b[0mlengths\u001b[0m\u001b[1;33m)\u001b[0m\u001b[1;33m\u001b[0m\u001b[1;33m\u001b[0m\u001b[0m\n\u001b[0;32m    254\u001b[0m     \u001b[1;32mif\u001b[0m \u001b[0mlen\u001b[0m\u001b[1;33m(\u001b[0m\u001b[0muniques\u001b[0m\u001b[1;33m)\u001b[0m \u001b[1;33m>\u001b[0m \u001b[1;36m1\u001b[0m\u001b[1;33m:\u001b[0m\u001b[1;33m\u001b[0m\u001b[1;33m\u001b[0m\u001b[0m\n\u001b[1;32m--> 255\u001b[1;33m         raise ValueError(\"Found input variables with inconsistent numbers of\"\n\u001b[0m\u001b[0;32m    256\u001b[0m                          \" samples: %r\" % [int(l) for l in lengths])\n\u001b[0;32m    257\u001b[0m \u001b[1;33m\u001b[0m\u001b[0m\n",
      "\u001b[1;31mValueError\u001b[0m: Found input variables with inconsistent numbers of samples: [0, 614]"
     ]
    }
   ],
   "source": [
    "for fold_, (trn_idx, val_idx) in enumerate(folds.split(train_df.values, target.values)):\n",
    "    print(\"Fold {}\".format(fold_))\n",
    "    trn_data = lgb.Dataset(train_df.iloc[trn_idx][features], label=target.iloc[trn_idx])\n",
    "    val_data = lgb.Dataset(train_df.iloc[val_idx][features], label=target.iloc[val_idx])\n",
    "    clf = lgb.train(param, trn_data, num_round, valid_sets = [trn_data, val_data], verbose_eval=1000, early_stopping_rounds = 2500)\n",
    "    oof[val_idx] = clf.predict(train_df.iloc[val_idx][features], num_iteration=clf.best_iteration)\n",
    "    predictions += clf.predict(test_df[features], num_iteration=clf.best_iteration) / folds.n_splits\n",
    "print(\"CV score: {:<8.5f}\".format(roc_auc_score(target, oof)))"
   ]
  },
  {
   "cell_type": "code",
   "execution_count": 296,
   "metadata": {},
   "outputs": [],
   "source": [
    "#np.where(train_df.values >= np.finfo(np.float64).max)"
   ]
  },
  {
   "cell_type": "code",
   "execution_count": 297,
   "metadata": {},
   "outputs": [
    {
     "name": "stdout",
     "output_type": "stream",
     "text": [
      "{'n_estimators': [10, 150], 'max_features': ['auto', 'log2'], 'max_depth': [5, 10, None], 'min_samples_split': [2, 5, 10], 'min_samples_leaf': [1, 2, 4], 'bootstrap': [True, False]}\n"
     ]
    }
   ],
   "source": [
    "from sklearn.ensemble import RandomForestClassifier\n",
    "from sklearn.model_selection import RandomizedSearchCV\n",
    "# Number of trees in random forest\n",
    "n_estimators = [int(x) for x in np.linspace(start = 10 , stop = 150, num = 2)]   # returns evenly spaced 10 numbers\n",
    "# Number of features to consider at every split\n",
    "max_features = ['auto', 'log2']\n",
    "# Maximum number of levels in tree\n",
    "max_depth = [int(x) for x in np.linspace(5, 10, num = 2)]  # returns evenly spaced numbers can be changed to any\n",
    "max_depth.append(None)\n",
    "# Minimum number of samples required to split a node\n",
    "min_samples_split = [2, 5, 10]\n",
    "# Minimum number of samples required at each leaf node\n",
    "min_samples_leaf = [1, 2, 4]\n",
    "# Method of selecting samples for training each tree\n",
    "bootstrap = [True, False]\n",
    "\n",
    "# Create the random grid\n",
    "random_grid = {'n_estimators': n_estimators,\n",
    "               'max_features': max_features,\n",
    "               'max_depth': max_depth,\n",
    "               'min_samples_split': min_samples_split,\n",
    "               'min_samples_leaf': min_samples_leaf,\n",
    "               'bootstrap': bootstrap}\n",
    "\n",
    "print(random_grid)"
   ]
  },
  {
   "cell_type": "code",
   "execution_count": 290,
   "metadata": {},
   "outputs": [
    {
     "name": "stdout",
     "output_type": "stream",
     "text": [
      "Fitting 3 folds for each of 5 candidates, totalling 15 fits\n"
     ]
    },
    {
     "name": "stderr",
     "output_type": "stream",
     "text": [
      "[Parallel(n_jobs=-1)]: Using backend LokyBackend with 8 concurrent workers.\n",
      "[Parallel(n_jobs=-1)]: Done   8 out of  15 | elapsed:   10.1s remaining:    8.9s\n",
      "[Parallel(n_jobs=-1)]: Done  15 out of  15 | elapsed:   10.2s finished\n"
     ]
    },
    {
     "ename": "ValueError",
     "evalue": "Input contains NaN, infinity or a value too large for dtype('float32').",
     "output_type": "error",
     "traceback": [
      "\u001b[1;31m---------------------------------------------------------------------------\u001b[0m",
      "\u001b[1;31mValueError\u001b[0m                                Traceback (most recent call last)",
      "\u001b[1;32m<ipython-input-290-86df6f43ac20>\u001b[0m in \u001b[0;36m<module>\u001b[1;34m\u001b[0m\n\u001b[0;32m     11\u001b[0m \u001b[1;33m\u001b[0m\u001b[0m\n\u001b[0;32m     12\u001b[0m \u001b[1;31m# Fit the random search model\u001b[0m\u001b[1;33m\u001b[0m\u001b[1;33m\u001b[0m\u001b[1;33m\u001b[0m\u001b[0m\n\u001b[1;32m---> 13\u001b[1;33m \u001b[0mrf_random\u001b[0m\u001b[1;33m.\u001b[0m\u001b[0mfit\u001b[0m\u001b[1;33m(\u001b[0m\u001b[0mxtrain\u001b[0m\u001b[1;33m,\u001b[0m\u001b[0mytrain\u001b[0m\u001b[1;33m)\u001b[0m\u001b[1;33m;\u001b[0m\u001b[1;33m\u001b[0m\u001b[1;33m\u001b[0m\u001b[0m\n\u001b[0m",
      "\u001b[1;32mC:\\ProgramData\\Anaconda3\\lib\\site-packages\\sklearn\\utils\\validation.py\u001b[0m in \u001b[0;36minner_f\u001b[1;34m(*args, **kwargs)\u001b[0m\n\u001b[0;32m     70\u001b[0m                           FutureWarning)\n\u001b[0;32m     71\u001b[0m         \u001b[0mkwargs\u001b[0m\u001b[1;33m.\u001b[0m\u001b[0mupdate\u001b[0m\u001b[1;33m(\u001b[0m\u001b[1;33m{\u001b[0m\u001b[0mk\u001b[0m\u001b[1;33m:\u001b[0m \u001b[0marg\u001b[0m \u001b[1;32mfor\u001b[0m \u001b[0mk\u001b[0m\u001b[1;33m,\u001b[0m \u001b[0marg\u001b[0m \u001b[1;32min\u001b[0m \u001b[0mzip\u001b[0m\u001b[1;33m(\u001b[0m\u001b[0msig\u001b[0m\u001b[1;33m.\u001b[0m\u001b[0mparameters\u001b[0m\u001b[1;33m,\u001b[0m \u001b[0margs\u001b[0m\u001b[1;33m)\u001b[0m\u001b[1;33m}\u001b[0m\u001b[1;33m)\u001b[0m\u001b[1;33m\u001b[0m\u001b[1;33m\u001b[0m\u001b[0m\n\u001b[1;32m---> 72\u001b[1;33m         \u001b[1;32mreturn\u001b[0m \u001b[0mf\u001b[0m\u001b[1;33m(\u001b[0m\u001b[1;33m**\u001b[0m\u001b[0mkwargs\u001b[0m\u001b[1;33m)\u001b[0m\u001b[1;33m\u001b[0m\u001b[1;33m\u001b[0m\u001b[0m\n\u001b[0m\u001b[0;32m     73\u001b[0m     \u001b[1;32mreturn\u001b[0m \u001b[0minner_f\u001b[0m\u001b[1;33m\u001b[0m\u001b[1;33m\u001b[0m\u001b[0m\n\u001b[0;32m     74\u001b[0m \u001b[1;33m\u001b[0m\u001b[0m\n",
      "\u001b[1;32mC:\\ProgramData\\Anaconda3\\lib\\site-packages\\sklearn\\model_selection\\_search.py\u001b[0m in \u001b[0;36mfit\u001b[1;34m(self, X, y, groups, **fit_params)\u001b[0m\n\u001b[0;32m    763\u001b[0m             \u001b[0mrefit_start_time\u001b[0m \u001b[1;33m=\u001b[0m \u001b[0mtime\u001b[0m\u001b[1;33m.\u001b[0m\u001b[0mtime\u001b[0m\u001b[1;33m(\u001b[0m\u001b[1;33m)\u001b[0m\u001b[1;33m\u001b[0m\u001b[1;33m\u001b[0m\u001b[0m\n\u001b[0;32m    764\u001b[0m             \u001b[1;32mif\u001b[0m \u001b[0my\u001b[0m \u001b[1;32mis\u001b[0m \u001b[1;32mnot\u001b[0m \u001b[1;32mNone\u001b[0m\u001b[1;33m:\u001b[0m\u001b[1;33m\u001b[0m\u001b[1;33m\u001b[0m\u001b[0m\n\u001b[1;32m--> 765\u001b[1;33m                 \u001b[0mself\u001b[0m\u001b[1;33m.\u001b[0m\u001b[0mbest_estimator_\u001b[0m\u001b[1;33m.\u001b[0m\u001b[0mfit\u001b[0m\u001b[1;33m(\u001b[0m\u001b[0mX\u001b[0m\u001b[1;33m,\u001b[0m \u001b[0my\u001b[0m\u001b[1;33m,\u001b[0m \u001b[1;33m**\u001b[0m\u001b[0mfit_params\u001b[0m\u001b[1;33m)\u001b[0m\u001b[1;33m\u001b[0m\u001b[1;33m\u001b[0m\u001b[0m\n\u001b[0m\u001b[0;32m    766\u001b[0m             \u001b[1;32melse\u001b[0m\u001b[1;33m:\u001b[0m\u001b[1;33m\u001b[0m\u001b[1;33m\u001b[0m\u001b[0m\n\u001b[0;32m    767\u001b[0m                 \u001b[0mself\u001b[0m\u001b[1;33m.\u001b[0m\u001b[0mbest_estimator_\u001b[0m\u001b[1;33m.\u001b[0m\u001b[0mfit\u001b[0m\u001b[1;33m(\u001b[0m\u001b[0mX\u001b[0m\u001b[1;33m,\u001b[0m \u001b[1;33m**\u001b[0m\u001b[0mfit_params\u001b[0m\u001b[1;33m)\u001b[0m\u001b[1;33m\u001b[0m\u001b[1;33m\u001b[0m\u001b[0m\n",
      "\u001b[1;32mC:\\ProgramData\\Anaconda3\\lib\\site-packages\\sklearn\\ensemble\\_forest.py\u001b[0m in \u001b[0;36mfit\u001b[1;34m(self, X, y, sample_weight)\u001b[0m\n\u001b[0;32m    301\u001b[0m                 \u001b[1;34m\"sparse multilabel-indicator for y is not supported.\"\u001b[0m\u001b[1;33m\u001b[0m\u001b[1;33m\u001b[0m\u001b[0m\n\u001b[0;32m    302\u001b[0m             )\n\u001b[1;32m--> 303\u001b[1;33m         X, y = self._validate_data(X, y, multi_output=True,\n\u001b[0m\u001b[0;32m    304\u001b[0m                                    accept_sparse=\"csc\", dtype=DTYPE)\n\u001b[0;32m    305\u001b[0m         \u001b[1;32mif\u001b[0m \u001b[0msample_weight\u001b[0m \u001b[1;32mis\u001b[0m \u001b[1;32mnot\u001b[0m \u001b[1;32mNone\u001b[0m\u001b[1;33m:\u001b[0m\u001b[1;33m\u001b[0m\u001b[1;33m\u001b[0m\u001b[0m\n",
      "\u001b[1;32mC:\\ProgramData\\Anaconda3\\lib\\site-packages\\sklearn\\base.py\u001b[0m in \u001b[0;36m_validate_data\u001b[1;34m(self, X, y, reset, validate_separately, **check_params)\u001b[0m\n\u001b[0;32m    430\u001b[0m                 \u001b[0my\u001b[0m \u001b[1;33m=\u001b[0m \u001b[0mcheck_array\u001b[0m\u001b[1;33m(\u001b[0m\u001b[0my\u001b[0m\u001b[1;33m,\u001b[0m \u001b[1;33m**\u001b[0m\u001b[0mcheck_y_params\u001b[0m\u001b[1;33m)\u001b[0m\u001b[1;33m\u001b[0m\u001b[1;33m\u001b[0m\u001b[0m\n\u001b[0;32m    431\u001b[0m             \u001b[1;32melse\u001b[0m\u001b[1;33m:\u001b[0m\u001b[1;33m\u001b[0m\u001b[1;33m\u001b[0m\u001b[0m\n\u001b[1;32m--> 432\u001b[1;33m                 \u001b[0mX\u001b[0m\u001b[1;33m,\u001b[0m \u001b[0my\u001b[0m \u001b[1;33m=\u001b[0m \u001b[0mcheck_X_y\u001b[0m\u001b[1;33m(\u001b[0m\u001b[0mX\u001b[0m\u001b[1;33m,\u001b[0m \u001b[0my\u001b[0m\u001b[1;33m,\u001b[0m \u001b[1;33m**\u001b[0m\u001b[0mcheck_params\u001b[0m\u001b[1;33m)\u001b[0m\u001b[1;33m\u001b[0m\u001b[1;33m\u001b[0m\u001b[0m\n\u001b[0m\u001b[0;32m    433\u001b[0m             \u001b[0mout\u001b[0m \u001b[1;33m=\u001b[0m \u001b[0mX\u001b[0m\u001b[1;33m,\u001b[0m \u001b[0my\u001b[0m\u001b[1;33m\u001b[0m\u001b[1;33m\u001b[0m\u001b[0m\n\u001b[0;32m    434\u001b[0m \u001b[1;33m\u001b[0m\u001b[0m\n",
      "\u001b[1;32mC:\\ProgramData\\Anaconda3\\lib\\site-packages\\sklearn\\utils\\validation.py\u001b[0m in \u001b[0;36minner_f\u001b[1;34m(*args, **kwargs)\u001b[0m\n\u001b[0;32m     70\u001b[0m                           FutureWarning)\n\u001b[0;32m     71\u001b[0m         \u001b[0mkwargs\u001b[0m\u001b[1;33m.\u001b[0m\u001b[0mupdate\u001b[0m\u001b[1;33m(\u001b[0m\u001b[1;33m{\u001b[0m\u001b[0mk\u001b[0m\u001b[1;33m:\u001b[0m \u001b[0marg\u001b[0m \u001b[1;32mfor\u001b[0m \u001b[0mk\u001b[0m\u001b[1;33m,\u001b[0m \u001b[0marg\u001b[0m \u001b[1;32min\u001b[0m \u001b[0mzip\u001b[0m\u001b[1;33m(\u001b[0m\u001b[0msig\u001b[0m\u001b[1;33m.\u001b[0m\u001b[0mparameters\u001b[0m\u001b[1;33m,\u001b[0m \u001b[0margs\u001b[0m\u001b[1;33m)\u001b[0m\u001b[1;33m}\u001b[0m\u001b[1;33m)\u001b[0m\u001b[1;33m\u001b[0m\u001b[1;33m\u001b[0m\u001b[0m\n\u001b[1;32m---> 72\u001b[1;33m         \u001b[1;32mreturn\u001b[0m \u001b[0mf\u001b[0m\u001b[1;33m(\u001b[0m\u001b[1;33m**\u001b[0m\u001b[0mkwargs\u001b[0m\u001b[1;33m)\u001b[0m\u001b[1;33m\u001b[0m\u001b[1;33m\u001b[0m\u001b[0m\n\u001b[0m\u001b[0;32m     73\u001b[0m     \u001b[1;32mreturn\u001b[0m \u001b[0minner_f\u001b[0m\u001b[1;33m\u001b[0m\u001b[1;33m\u001b[0m\u001b[0m\n\u001b[0;32m     74\u001b[0m \u001b[1;33m\u001b[0m\u001b[0m\n",
      "\u001b[1;32mC:\\ProgramData\\Anaconda3\\lib\\site-packages\\sklearn\\utils\\validation.py\u001b[0m in \u001b[0;36mcheck_X_y\u001b[1;34m(X, y, accept_sparse, accept_large_sparse, dtype, order, copy, force_all_finite, ensure_2d, allow_nd, multi_output, ensure_min_samples, ensure_min_features, y_numeric, estimator)\u001b[0m\n\u001b[0;32m    793\u001b[0m         \u001b[1;32mraise\u001b[0m \u001b[0mValueError\u001b[0m\u001b[1;33m(\u001b[0m\u001b[1;34m\"y cannot be None\"\u001b[0m\u001b[1;33m)\u001b[0m\u001b[1;33m\u001b[0m\u001b[1;33m\u001b[0m\u001b[0m\n\u001b[0;32m    794\u001b[0m \u001b[1;33m\u001b[0m\u001b[0m\n\u001b[1;32m--> 795\u001b[1;33m     X = check_array(X, accept_sparse=accept_sparse,\n\u001b[0m\u001b[0;32m    796\u001b[0m                     \u001b[0maccept_large_sparse\u001b[0m\u001b[1;33m=\u001b[0m\u001b[0maccept_large_sparse\u001b[0m\u001b[1;33m,\u001b[0m\u001b[1;33m\u001b[0m\u001b[1;33m\u001b[0m\u001b[0m\n\u001b[0;32m    797\u001b[0m                     \u001b[0mdtype\u001b[0m\u001b[1;33m=\u001b[0m\u001b[0mdtype\u001b[0m\u001b[1;33m,\u001b[0m \u001b[0morder\u001b[0m\u001b[1;33m=\u001b[0m\u001b[0morder\u001b[0m\u001b[1;33m,\u001b[0m \u001b[0mcopy\u001b[0m\u001b[1;33m=\u001b[0m\u001b[0mcopy\u001b[0m\u001b[1;33m,\u001b[0m\u001b[1;33m\u001b[0m\u001b[1;33m\u001b[0m\u001b[0m\n",
      "\u001b[1;32mC:\\ProgramData\\Anaconda3\\lib\\site-packages\\sklearn\\utils\\validation.py\u001b[0m in \u001b[0;36minner_f\u001b[1;34m(*args, **kwargs)\u001b[0m\n\u001b[0;32m     70\u001b[0m                           FutureWarning)\n\u001b[0;32m     71\u001b[0m         \u001b[0mkwargs\u001b[0m\u001b[1;33m.\u001b[0m\u001b[0mupdate\u001b[0m\u001b[1;33m(\u001b[0m\u001b[1;33m{\u001b[0m\u001b[0mk\u001b[0m\u001b[1;33m:\u001b[0m \u001b[0marg\u001b[0m \u001b[1;32mfor\u001b[0m \u001b[0mk\u001b[0m\u001b[1;33m,\u001b[0m \u001b[0marg\u001b[0m \u001b[1;32min\u001b[0m \u001b[0mzip\u001b[0m\u001b[1;33m(\u001b[0m\u001b[0msig\u001b[0m\u001b[1;33m.\u001b[0m\u001b[0mparameters\u001b[0m\u001b[1;33m,\u001b[0m \u001b[0margs\u001b[0m\u001b[1;33m)\u001b[0m\u001b[1;33m}\u001b[0m\u001b[1;33m)\u001b[0m\u001b[1;33m\u001b[0m\u001b[1;33m\u001b[0m\u001b[0m\n\u001b[1;32m---> 72\u001b[1;33m         \u001b[1;32mreturn\u001b[0m \u001b[0mf\u001b[0m\u001b[1;33m(\u001b[0m\u001b[1;33m**\u001b[0m\u001b[0mkwargs\u001b[0m\u001b[1;33m)\u001b[0m\u001b[1;33m\u001b[0m\u001b[1;33m\u001b[0m\u001b[0m\n\u001b[0m\u001b[0;32m     73\u001b[0m     \u001b[1;32mreturn\u001b[0m \u001b[0minner_f\u001b[0m\u001b[1;33m\u001b[0m\u001b[1;33m\u001b[0m\u001b[0m\n\u001b[0;32m     74\u001b[0m \u001b[1;33m\u001b[0m\u001b[0m\n",
      "\u001b[1;32mC:\\ProgramData\\Anaconda3\\lib\\site-packages\\sklearn\\utils\\validation.py\u001b[0m in \u001b[0;36mcheck_array\u001b[1;34m(array, accept_sparse, accept_large_sparse, dtype, order, copy, force_all_finite, ensure_2d, allow_nd, ensure_min_samples, ensure_min_features, estimator)\u001b[0m\n\u001b[0;32m    642\u001b[0m \u001b[1;33m\u001b[0m\u001b[0m\n\u001b[0;32m    643\u001b[0m         \u001b[1;32mif\u001b[0m \u001b[0mforce_all_finite\u001b[0m\u001b[1;33m:\u001b[0m\u001b[1;33m\u001b[0m\u001b[1;33m\u001b[0m\u001b[0m\n\u001b[1;32m--> 644\u001b[1;33m             _assert_all_finite(array,\n\u001b[0m\u001b[0;32m    645\u001b[0m                                allow_nan=force_all_finite == 'allow-nan')\n\u001b[0;32m    646\u001b[0m \u001b[1;33m\u001b[0m\u001b[0m\n",
      "\u001b[1;32mC:\\ProgramData\\Anaconda3\\lib\\site-packages\\sklearn\\utils\\validation.py\u001b[0m in \u001b[0;36m_assert_all_finite\u001b[1;34m(X, allow_nan, msg_dtype)\u001b[0m\n\u001b[0;32m     94\u001b[0m                 not allow_nan and not np.isfinite(X).all()):\n\u001b[0;32m     95\u001b[0m             \u001b[0mtype_err\u001b[0m \u001b[1;33m=\u001b[0m \u001b[1;34m'infinity'\u001b[0m \u001b[1;32mif\u001b[0m \u001b[0mallow_nan\u001b[0m \u001b[1;32melse\u001b[0m \u001b[1;34m'NaN, infinity'\u001b[0m\u001b[1;33m\u001b[0m\u001b[1;33m\u001b[0m\u001b[0m\n\u001b[1;32m---> 96\u001b[1;33m             raise ValueError(\n\u001b[0m\u001b[0;32m     97\u001b[0m                     \u001b[0mmsg_err\u001b[0m\u001b[1;33m.\u001b[0m\u001b[0mformat\u001b[0m\u001b[1;33m\u001b[0m\u001b[1;33m\u001b[0m\u001b[0m\n\u001b[0;32m     98\u001b[0m                     (type_err,\n",
      "\u001b[1;31mValueError\u001b[0m: Input contains NaN, infinity or a value too large for dtype('float32')."
     ]
    }
   ],
   "source": [
    "from sklearn.ensemble import RandomForestClassifier\n",
    "\n",
    "rf = RandomForestClassifier(random_state = 100)\n",
    "# Use the random grid to search for best hyperparameters\n",
    "\n",
    "# Random search of parameters, using 3 fold cross validation, \n",
    "rf_random = RandomizedSearchCV(estimator=rf, param_distributions=random_grid,\n",
    "                              n_iter = 5,  \n",
    "                              cv = 3, verbose=2, random_state=42, n_jobs=-1,\n",
    "                              return_train_score=True)\n",
    "# Fit the random search model\n",
    "rf_random.fit(xtrain,ytrain);"
   ]
  },
  {
   "cell_type": "code",
   "execution_count": 254,
   "metadata": {},
   "outputs": [],
   "source": [
    "best_random = rf_random.best_estimator_\n",
    "best_random= best_random.fit(xtrain,ytrain)"
   ]
  },
  {
   "cell_type": "code",
   "execution_count": null,
   "metadata": {},
   "outputs": [],
   "source": []
  },
  {
   "cell_type": "code",
   "execution_count": 255,
   "metadata": {},
   "outputs": [],
   "source": [
    "predictions=best_random.predict(xtest)"
   ]
  },
  {
   "cell_type": "code",
   "execution_count": 256,
   "metadata": {},
   "outputs": [],
   "source": [
    "sub = pd.read_csv('sample_submission_49d68Cx.csv')\n",
    "sub[\"Loan_Status\"] = predictions\n",
    "## adding target variable\n",
    "sub['Loan_Status'] = sub['Loan_Status'].apply(lambda x: 'Y' if x==1.0 else 'N')\n",
    "sub.to_csv(\"submission_rf2.csv\", index=False)"
   ]
  },
  {
   "cell_type": "code",
   "execution_count": null,
   "metadata": {},
   "outputs": [],
   "source": []
  },
  {
   "cell_type": "code",
   "execution_count": null,
   "metadata": {},
   "outputs": [],
   "source": []
  },
  {
   "cell_type": "code",
   "execution_count": null,
   "metadata": {},
   "outputs": [],
   "source": []
  }
 ],
 "metadata": {
  "kernelspec": {
   "display_name": "Python 3",
   "language": "python",
   "name": "python3"
  },
  "language_info": {
   "codemirror_mode": {
    "name": "ipython",
    "version": 3
   },
   "file_extension": ".py",
   "mimetype": "text/x-python",
   "name": "python",
   "nbconvert_exporter": "python",
   "pygments_lexer": "ipython3",
   "version": "3.8.5"
  }
 },
 "nbformat": 4,
 "nbformat_minor": 4
}
